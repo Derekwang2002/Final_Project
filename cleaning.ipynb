{
 "cells": [
  {
   "cell_type": "code",
   "execution_count": 16,
   "metadata": {},
   "outputs": [],
   "source": [
    "import numpy as np\n",
    "import pandas as pd"
   ]
  },
  {
   "cell_type": "code",
   "execution_count": 17,
   "metadata": {},
   "outputs": [
    {
     "data": {
      "text/plain": [
       "show_id           0\n",
       "type              0\n",
       "title             0\n",
       "director        473\n",
       "cast            190\n",
       "country         219\n",
       "date_added        3\n",
       "release_year      0\n",
       "rating            3\n",
       "duration          0\n",
       "listed_in         0\n",
       "description       0\n",
       "dtype: int64"
      ]
     },
     "execution_count": 17,
     "metadata": {},
     "output_type": "execute_result"
    }
   ],
   "source": [
    "disney = pd.read_csv('disney_plus_titles.csv')\n",
    "disney.isnull().sum()"
   ]
  },
  {
   "cell_type": "code",
   "execution_count": 18,
   "metadata": {},
   "outputs": [
    {
     "data": {
      "text/plain": [
       "show_id            0\n",
       "type               0\n",
       "title              0\n",
       "director        3070\n",
       "cast            3073\n",
       "country         1453\n",
       "date_added        28\n",
       "release_year       0\n",
       "rating           520\n",
       "duration         479\n",
       "listed_in          0\n",
       "description        4\n",
       "dtype: int64"
      ]
     },
     "execution_count": 18,
     "metadata": {},
     "output_type": "execute_result"
    }
   ],
   "source": [
    "hulu = pd.read_csv('hulu_titles.csv')\n",
    "hulu.isnull().sum()"
   ]
  },
  {
   "cell_type": "code",
   "execution_count": 19,
   "metadata": {},
   "outputs": [
    {
     "data": {
      "text/plain": [
       "show_id            0\n",
       "type               0\n",
       "title              0\n",
       "director        2082\n",
       "cast            1233\n",
       "country         8996\n",
       "date_added      9513\n",
       "release_year       0\n",
       "rating           337\n",
       "duration           0\n",
       "listed_in          0\n",
       "description        0\n",
       "dtype: int64"
      ]
     },
     "execution_count": 19,
     "metadata": {},
     "output_type": "execute_result"
    }
   ],
   "source": [
    "amazon = pd.read_csv('amazon_prime_titles.csv')\n",
    "amazon.isnull().sum()"
   ]
  },
  {
   "cell_type": "code",
   "execution_count": 20,
   "metadata": {},
   "outputs": [
    {
     "data": {
      "text/plain": [
       "(array([' ', '  Aadar Malik', '  Aakash Gupta', ..., 'アンドレ･ロビンソン',\n",
       "        'マティアス・シュヴァイクヘーファー', '久保陽香'], dtype='<U85'),\n",
       " array([3, 1, 1, ..., 1, 1, 1]))"
      ]
     },
     "execution_count": 20,
     "metadata": {},
     "output_type": "execute_result"
    }
   ],
   "source": [
    "a = list(amazon.cast.apply(lambda x: str(x)))\n",
    "b = ','.join(a)\n",
    "c = b.split(',')\n",
    "v, coun = np.unique(c, return_counts=True)\n",
    "v, coun"
   ]
  },
  {
   "cell_type": "code",
   "execution_count": 21,
   "metadata": {},
   "outputs": [
    {
     "data": {
      "text/plain": [
       "array([   1,    1,    1, ...,   35,   56, 1233])"
      ]
     },
     "execution_count": 21,
     "metadata": {},
     "output_type": "execute_result"
    }
   ],
   "source": [
    "coun.sort()\n",
    "coun"
   ]
  },
  {
   "cell_type": "code",
   "execution_count": 22,
   "metadata": {},
   "outputs": [
    {
     "name": "stdout",
     "output_type": "stream",
     "text": [
      "<class 'pandas.core.frame.DataFrame'>\n",
      "RangeIndex: 9668 entries, 0 to 9667\n",
      "Data columns (total 12 columns):\n",
      " #   Column        Non-Null Count  Dtype \n",
      "---  ------        --------------  ----- \n",
      " 0   show_id       9668 non-null   object\n",
      " 1   type          9668 non-null   object\n",
      " 2   title         9668 non-null   object\n",
      " 3   director      7586 non-null   object\n",
      " 4   cast          8435 non-null   object\n",
      " 5   country       672 non-null    object\n",
      " 6   date_added    155 non-null    object\n",
      " 7   release_year  9668 non-null   int64 \n",
      " 8   rating        9331 non-null   object\n",
      " 9   duration      9668 non-null   object\n",
      " 10  listed_in     9668 non-null   object\n",
      " 11  description   9668 non-null   object\n",
      "dtypes: int64(1), object(11)\n",
      "memory usage: 906.5+ KB\n"
     ]
    }
   ],
   "source": [
    "amazon.info()"
   ]
  },
  {
   "cell_type": "code",
   "execution_count": 23,
   "metadata": {},
   "outputs": [],
   "source": [
    "amazon.drop(['date_added', 'country'], axis=1, inplace=True)\n",
    "amazon.rating.fillna('no_limit', inplace=True)\n"
   ]
  },
  {
   "cell_type": "code",
   "execution_count": 24,
   "metadata": {},
   "outputs": [
    {
     "data": {
      "text/html": [
       "<div>\n",
       "<style scoped>\n",
       "    .dataframe tbody tr th:only-of-type {\n",
       "        vertical-align: middle;\n",
       "    }\n",
       "\n",
       "    .dataframe tbody tr th {\n",
       "        vertical-align: top;\n",
       "    }\n",
       "\n",
       "    .dataframe thead th {\n",
       "        text-align: right;\n",
       "    }\n",
       "</style>\n",
       "<table border=\"1\" class=\"dataframe\">\n",
       "  <thead>\n",
       "    <tr style=\"text-align: right;\">\n",
       "      <th></th>\n",
       "      <th>show_id</th>\n",
       "      <th>type</th>\n",
       "      <th>title</th>\n",
       "      <th>director</th>\n",
       "      <th>cast</th>\n",
       "      <th>release_year</th>\n",
       "      <th>rating</th>\n",
       "      <th>duration</th>\n",
       "      <th>listed_in</th>\n",
       "      <th>description</th>\n",
       "    </tr>\n",
       "  </thead>\n",
       "  <tbody>\n",
       "    <tr>\n",
       "      <th>0</th>\n",
       "      <td>s1</td>\n",
       "      <td>Movie</td>\n",
       "      <td>The Grand Seduction</td>\n",
       "      <td>Don McKellar</td>\n",
       "      <td>Brendan Gleeson, Taylor Kitsch, Gordon Pinsent</td>\n",
       "      <td>2014</td>\n",
       "      <td>no_limit</td>\n",
       "      <td>113 min</td>\n",
       "      <td>Comedy, Drama</td>\n",
       "      <td>A small fishing village must procure a local d...</td>\n",
       "    </tr>\n",
       "    <tr>\n",
       "      <th>1</th>\n",
       "      <td>s2</td>\n",
       "      <td>Movie</td>\n",
       "      <td>Take Care Good Night</td>\n",
       "      <td>Girish Joshi</td>\n",
       "      <td>Mahesh Manjrekar, Abhay Mahajan, Sachin Khedekar</td>\n",
       "      <td>2018</td>\n",
       "      <td>13+</td>\n",
       "      <td>110 min</td>\n",
       "      <td>Drama, International</td>\n",
       "      <td>A Metro Family decides to fight a Cyber Crimin...</td>\n",
       "    </tr>\n",
       "    <tr>\n",
       "      <th>2</th>\n",
       "      <td>s3</td>\n",
       "      <td>Movie</td>\n",
       "      <td>Secrets of Deception</td>\n",
       "      <td>Josh Webber</td>\n",
       "      <td>Tom Sizemore, Lorenzo Lamas, Robert LaSardo, R...</td>\n",
       "      <td>2017</td>\n",
       "      <td>no_limit</td>\n",
       "      <td>74 min</td>\n",
       "      <td>Action, Drama, Suspense</td>\n",
       "      <td>After a man discovers his wife is cheating on ...</td>\n",
       "    </tr>\n",
       "    <tr>\n",
       "      <th>3</th>\n",
       "      <td>s4</td>\n",
       "      <td>Movie</td>\n",
       "      <td>Pink: Staying True</td>\n",
       "      <td>Sonia Anderson</td>\n",
       "      <td>Interviews with: Pink, Adele, Beyoncé, Britney...</td>\n",
       "      <td>2014</td>\n",
       "      <td>no_limit</td>\n",
       "      <td>69 min</td>\n",
       "      <td>Documentary</td>\n",
       "      <td>Pink breaks the mold once again, bringing her ...</td>\n",
       "    </tr>\n",
       "    <tr>\n",
       "      <th>4</th>\n",
       "      <td>s5</td>\n",
       "      <td>Movie</td>\n",
       "      <td>Monster Maker</td>\n",
       "      <td>Giles Foster</td>\n",
       "      <td>Harry Dean Stanton, Kieran O'Brien, George Cos...</td>\n",
       "      <td>1989</td>\n",
       "      <td>no_limit</td>\n",
       "      <td>45 min</td>\n",
       "      <td>Drama, Fantasy</td>\n",
       "      <td>Teenage Matt Banting wants to work with a famo...</td>\n",
       "    </tr>\n",
       "    <tr>\n",
       "      <th>...</th>\n",
       "      <td>...</td>\n",
       "      <td>...</td>\n",
       "      <td>...</td>\n",
       "      <td>...</td>\n",
       "      <td>...</td>\n",
       "      <td>...</td>\n",
       "      <td>...</td>\n",
       "      <td>...</td>\n",
       "      <td>...</td>\n",
       "      <td>...</td>\n",
       "    </tr>\n",
       "    <tr>\n",
       "      <th>9663</th>\n",
       "      <td>s9664</td>\n",
       "      <td>Movie</td>\n",
       "      <td>Pride Of The Bowery</td>\n",
       "      <td>Joseph H. Lewis</td>\n",
       "      <td>Leo Gorcey, Bobby Jordan</td>\n",
       "      <td>1940</td>\n",
       "      <td>7+</td>\n",
       "      <td>60 min</td>\n",
       "      <td>Comedy</td>\n",
       "      <td>New York City street principles get an East Si...</td>\n",
       "    </tr>\n",
       "    <tr>\n",
       "      <th>9664</th>\n",
       "      <td>s9665</td>\n",
       "      <td>TV Show</td>\n",
       "      <td>Planet Patrol</td>\n",
       "      <td>NaN</td>\n",
       "      <td>DICK VOSBURGH, RONNIE STEVENS, LIBBY MORRIS, M...</td>\n",
       "      <td>2018</td>\n",
       "      <td>13+</td>\n",
       "      <td>4 Seasons</td>\n",
       "      <td>TV Shows</td>\n",
       "      <td>This is Earth, 2100AD - and these are the adve...</td>\n",
       "    </tr>\n",
       "    <tr>\n",
       "      <th>9665</th>\n",
       "      <td>s9666</td>\n",
       "      <td>Movie</td>\n",
       "      <td>Outpost</td>\n",
       "      <td>Steve Barker</td>\n",
       "      <td>Ray Stevenson, Julian Wadham, Richard Brake, M...</td>\n",
       "      <td>2008</td>\n",
       "      <td>R</td>\n",
       "      <td>90 min</td>\n",
       "      <td>Action</td>\n",
       "      <td>In war-torn Eastern Europe, a world-weary grou...</td>\n",
       "    </tr>\n",
       "    <tr>\n",
       "      <th>9666</th>\n",
       "      <td>s9667</td>\n",
       "      <td>TV Show</td>\n",
       "      <td>Maradona: Blessed Dream</td>\n",
       "      <td>NaN</td>\n",
       "      <td>Esteban Recagno, Ezequiel Stremiz, Luciano Vit...</td>\n",
       "      <td>2021</td>\n",
       "      <td>TV-MA</td>\n",
       "      <td>1 Season</td>\n",
       "      <td>Drama, Sports</td>\n",
       "      <td>The series tells the story of Diego Maradona, ...</td>\n",
       "    </tr>\n",
       "    <tr>\n",
       "      <th>9667</th>\n",
       "      <td>s9668</td>\n",
       "      <td>Movie</td>\n",
       "      <td>Harry Brown</td>\n",
       "      <td>Daniel Barber</td>\n",
       "      <td>Michael Caine, Emily Mortimer, Joseph Gilgun, ...</td>\n",
       "      <td>2010</td>\n",
       "      <td>R</td>\n",
       "      <td>103 min</td>\n",
       "      <td>Action, Drama, Suspense</td>\n",
       "      <td>Harry Brown, starring two-time Academy Award w...</td>\n",
       "    </tr>\n",
       "  </tbody>\n",
       "</table>\n",
       "<p>9668 rows × 10 columns</p>\n",
       "</div>"
      ],
      "text/plain": [
       "     show_id     type                    title         director  \\\n",
       "0         s1    Movie      The Grand Seduction     Don McKellar   \n",
       "1         s2    Movie     Take Care Good Night     Girish Joshi   \n",
       "2         s3    Movie     Secrets of Deception      Josh Webber   \n",
       "3         s4    Movie       Pink: Staying True   Sonia Anderson   \n",
       "4         s5    Movie            Monster Maker     Giles Foster   \n",
       "...      ...      ...                      ...              ...   \n",
       "9663   s9664    Movie      Pride Of The Bowery  Joseph H. Lewis   \n",
       "9664   s9665  TV Show            Planet Patrol              NaN   \n",
       "9665   s9666    Movie                  Outpost     Steve Barker   \n",
       "9666   s9667  TV Show  Maradona: Blessed Dream              NaN   \n",
       "9667   s9668    Movie              Harry Brown    Daniel Barber   \n",
       "\n",
       "                                                   cast  release_year  \\\n",
       "0        Brendan Gleeson, Taylor Kitsch, Gordon Pinsent          2014   \n",
       "1      Mahesh Manjrekar, Abhay Mahajan, Sachin Khedekar          2018   \n",
       "2     Tom Sizemore, Lorenzo Lamas, Robert LaSardo, R...          2017   \n",
       "3     Interviews with: Pink, Adele, Beyoncé, Britney...          2014   \n",
       "4     Harry Dean Stanton, Kieran O'Brien, George Cos...          1989   \n",
       "...                                                 ...           ...   \n",
       "9663                           Leo Gorcey, Bobby Jordan          1940   \n",
       "9664  DICK VOSBURGH, RONNIE STEVENS, LIBBY MORRIS, M...          2018   \n",
       "9665  Ray Stevenson, Julian Wadham, Richard Brake, M...          2008   \n",
       "9666  Esteban Recagno, Ezequiel Stremiz, Luciano Vit...          2021   \n",
       "9667  Michael Caine, Emily Mortimer, Joseph Gilgun, ...          2010   \n",
       "\n",
       "        rating   duration                listed_in  \\\n",
       "0     no_limit    113 min            Comedy, Drama   \n",
       "1          13+    110 min     Drama, International   \n",
       "2     no_limit     74 min  Action, Drama, Suspense   \n",
       "3     no_limit     69 min              Documentary   \n",
       "4     no_limit     45 min           Drama, Fantasy   \n",
       "...        ...        ...                      ...   \n",
       "9663        7+     60 min                   Comedy   \n",
       "9664       13+  4 Seasons                 TV Shows   \n",
       "9665         R     90 min                   Action   \n",
       "9666     TV-MA   1 Season            Drama, Sports   \n",
       "9667         R    103 min  Action, Drama, Suspense   \n",
       "\n",
       "                                            description  \n",
       "0     A small fishing village must procure a local d...  \n",
       "1     A Metro Family decides to fight a Cyber Crimin...  \n",
       "2     After a man discovers his wife is cheating on ...  \n",
       "3     Pink breaks the mold once again, bringing her ...  \n",
       "4     Teenage Matt Banting wants to work with a famo...  \n",
       "...                                                 ...  \n",
       "9663  New York City street principles get an East Si...  \n",
       "9664  This is Earth, 2100AD - and these are the adve...  \n",
       "9665  In war-torn Eastern Europe, a world-weary grou...  \n",
       "9666  The series tells the story of Diego Maradona, ...  \n",
       "9667  Harry Brown, starring two-time Academy Award w...  \n",
       "\n",
       "[9668 rows x 10 columns]"
      ]
     },
     "execution_count": 24,
     "metadata": {},
     "output_type": "execute_result"
    }
   ],
   "source": [
    "amazon"
   ]
  },
  {
   "cell_type": "code",
   "execution_count": 25,
   "metadata": {},
   "outputs": [],
   "source": [
    "netflix_df = pd.read_csv('netflix_titles.csv')"
   ]
  },
  {
   "cell_type": "code",
   "execution_count": 26,
   "metadata": {},
   "outputs": [],
   "source": [
    "country = pd.concat([amazon, hulu, disney, netflix_df]).country.unique()"
   ]
  },
  {
   "cell_type": "code",
   "execution_count": 27,
   "metadata": {},
   "outputs": [
    {
     "data": {
      "text/plain": [
       "array([nan, 'United States', 'Japan', 'United Kingdom',\n",
       "       'United Kingdom, United States',\n",
       "       'United Kingdom, Mexico, United States',\n",
       "       'Ireland, United Kingdom, Germany, Sweden',\n",
       "       'United States, United Kingdom',\n",
       "       'United Kingdom, Canada, United States', 'Canada, United States',\n",
       "       'United States, United Kingdom, Germany, Canada',\n",
       "       'United States, Mexico', 'France, United States',\n",
       "       'United States, New Zealand', 'Canada', 'United States, Canada',\n",
       "       'United States, Italy', 'Canada, United Kingdom',\n",
       "       'United States, Czech Republic, Spain', 'Australia',\n",
       "       'United States, Denmark', 'Israel', 'Mexico, United States',\n",
       "       'United States, Canada, United Kingdom',\n",
       "       'United States, Australia', 'Russia',\n",
       "       'United States, South Africa', 'Italy, France, Germany', 'France',\n",
       "       'United Kingdom, Spain, Ireland, United States', 'Spain',\n",
       "       'United States, Japan', 'Ireland, Belgium, United States',\n",
       "       'Ireland', 'Russia, United States',\n",
       "       'United Kingdom, France, United States',\n",
       "       'Australia, United Kingdom', 'Germany, Belgium',\n",
       "       'Germany, Luxembourg',\n",
       "       'United Kingdom, France, United States, China',\n",
       "       'Poland, United Kingdom, Ukraine', 'Italy, United States',\n",
       "       'Germany', 'United Kingdom, Sweden, Germany',\n",
       "       'United States, Malta, France, United Kingdom',\n",
       "       'United States, Canada, Ireland',\n",
       "       'Chile, Netherlands, Spain, Germany, United States',\n",
       "       'United Kingdom, United Arab Emirates', 'Germany, Norway',\n",
       "       'Sweden, United States, Germany, United Kingdom',\n",
       "       'United States, United Kingdom, Italy',\n",
       "       'United Kingdom, Philippines, Hungary, United States',\n",
       "       'United States, Germany',\n",
       "       'United States, Bulgaria, Spain, Germany',\n",
       "       'United States, Germany, Bulgaria, China',\n",
       "       'France, Germany, Bulgaria, United States', 'South Korea',\n",
       "       'Canada, United States, Spain, South Korea',\n",
       "       'Czech Republic, United Kingdom, United States, France',\n",
       "       'China, United States', 'Germany, United States, Thailand',\n",
       "       'France, Germany', 'New Zealand', 'Sweden, United States',\n",
       "       'France, Canada', 'United States, Mexico, Australia',\n",
       "       'United States, Spain',\n",
       "       'Ireland, United Kingdom, Sweden, Belgium, United States',\n",
       "       'Switzerland, France, Belgium, United States',\n",
       "       'Denmark, France, Sweden, Germany, Belgium, Tunisia',\n",
       "       'Romania, France, Germany, Sweden', 'Ireland, France',\n",
       "       'Afghanistan, United States', 'Canada, United States, Mexico',\n",
       "       'United States, Serbia, Canada',\n",
       "       'United States, United Kingdom, Australia',\n",
       "       'Australia, United Arab Emirates',\n",
       "       'United Kingdom, Israel, United States',\n",
       "       'United States, Germany, Canada, United Kingdom',\n",
       "       'Canada, United Kingdom, United States',\n",
       "       'United States, Germany, Norway, United Kingdom, Montenegro',\n",
       "       'United States, Ireland', 'United Kingdom, United States, Canada',\n",
       "       'Norway', 'United States, Costa Rica', 'United States, Hong Kong',\n",
       "       'United Kingdom, Denmark, United States',\n",
       "       'United States, Australia, Colombia, French Polynesia, Saudi Arabia',\n",
       "       'United Kingdom, Australia', 'United Arab Emirates, Hong Kong',\n",
       "       'Chile, Colombia, Spain, United States',\n",
       "       'Germany, France, United States', 'Mexico',\n",
       "       'Austria, United Kingdom, Germany, France',\n",
       "       'Sweden, France, Norway, Denmark', 'Sweden',\n",
       "       'Denmark, Sweden, France, Germany',\n",
       "       'United States, Netherlands, United Kingdom, Denmark',\n",
       "       'Colombia, Argentina, Netherlands, Germany, Sweden, Uruguay, United States, Switzerland, Denmark, France',\n",
       "       'United States, Bulgaria',\n",
       "       'Austria, Australia, Germany, United States',\n",
       "       'Australia, United States',\n",
       "       'Denmark, Germany, France, United Kingdom, United States, Qatar, Syria',\n",
       "       'Venezuela', 'Finland, Germany, Canada, Sweden, France',\n",
       "       'United Kingdom, Belgium, United States', 'Canada, France',\n",
       "       'Colombia, United States', 'Italy',\n",
       "       'United States, United Kingdom, France',\n",
       "       'United Kingdom, Germany, United States',\n",
       "       'Australia, United States, United Kingdom',\n",
       "       'Sweden, Denmark, United States',\n",
       "       'Australia, United States, United Kingdom, India, Singapore',\n",
       "       'Bulgaria, United States', 'Italy, France',\n",
       "       'Switzerland, United Kingdom, France, United States',\n",
       "       'Greece, New Zealand',\n",
       "       'United Kingdom, Ireland, United States, Germany, Japan, France',\n",
       "       'United Kingdom, Sweden, Norway', 'Germany, Czech Republic',\n",
       "       'Sweden, Denmark',\n",
       "       'France, Spain, Romania, Belgium, United States', 'Denmark',\n",
       "       'United Kingdom, India, Germany, China, United States',\n",
       "       'Ireland, United Kingdom', 'Italy, Belgium',\n",
       "       'United States, South Korea',\n",
       "       'Germany, Luxembourg, Denmark, Belgium, China',\n",
       "       'Iceland, Poland, Denmark, Germany, France',\n",
       "       'Belgium, France, Netherlands', 'France, Belgium',\n",
       "       'Romania, United States', 'Finland, United Kingdom, Canada',\n",
       "       'United Kingdom, Argentina', 'Colombia',\n",
       "       'Italy, Brazil, Germany, France, Sweden, United States',\n",
       "       'Sweden, Denmark, Finland',\n",
       "       'United States, United Kingdom, Australia, Canada',\n",
       "       'United States, Canada, Mexico', 'Norway, France, Denmark, Sweden',\n",
       "       'France, Belgium, United States', 'Sweden, France',\n",
       "       'United States, France',\n",
       "       'United Kingdom, Australia, New Zealand, United States',\n",
       "       'Japan, United States', 'Japan, Taiwan', 'United States, China',\n",
       "       'United Kingdom, Ireland', 'Japan, France',\n",
       "       'United Kingdom, France, Germany, Ireland',\n",
       "       'Ireland, United States, Canada, United Kingdom, Denmark, Spain, Poland, Hungary',\n",
       "       'France, United Kingdom', 'Ireland, United States',\n",
       "       'Canada, United States, France',\n",
       "       'France, South Korea, Japan, United States',\n",
       "       'United States, United Kingdom, Hungary', 'United States, India',\n",
       "       'United States, Canada, United Kingdom, Singapore, Australia, Thailand',\n",
       "       'South Korea, United States, China, Japan',\n",
       "       'United States, United Kingdom, South Korea',\n",
       "       'United States, United Kingdom, Canada',\n",
       "       'United States, Germany, United Kingdom', 'United States, Brazil',\n",
       "       'United Kingdom, United States, Canada, Ireland',\n",
       "       'United States, United Kingdom, Belgium, Canada',\n",
       "       'Austria, South Africa', 'United Kingdom, United States, France',\n",
       "       'United States, Canada, Hong Kong', 'Argentina',\n",
       "       'United Arab Emirates',\n",
       "       'France, Switzerland, Spain, United States, United Arab Emirates',\n",
       "       'United Kingdom, France', 'Argentina, Mexico', 'India',\n",
       "       'France, Japan', 'France, United Kingdom, United States',\n",
       "       'United States, Germany, Ireland, United Kingdom',\n",
       "       'United States, United Kingdom, South Africa',\n",
       "       'United Kingdom, United States, Ireland',\n",
       "       'Ireland, United Kingdom, United States, South Korea, Canada',\n",
       "       'United States, South Korea, France',\n",
       "       'United States, Australia, France, Canada',\n",
       "       'United States, Hungary, United Kingdom',\n",
       "       'United States, Hong Kong, South Korea, France, Canada, China, United Kingdom, Australia, Japan, Taiwan, Philippines',\n",
       "       'United States, Taiwan, South Korea, China, Japan, United Kingdom',\n",
       "       'Germany, United States', 'United Kingdom, Germany',\n",
       "       'United States, Philippines, South Korea',\n",
       "       'United Kingdom, China, United States', 'Tanzania, United States',\n",
       "       'United States, Panama, Mexico',\n",
       "       'United States, Angola, Botswana, Namibia, South Africa',\n",
       "       'Canada, United States, United Kingdom, France, Luxembourg',\n",
       "       'Denmark, China', 'United States, Guatemala',\n",
       "       'United States, South Korea, Singapore, Russia, Malaysia, Kazakhstan, Taiwan, Hong Kong, Japan, China, India, Syria, Iran, Egypt, Pakistan',\n",
       "       'United States, Canada, Australia',\n",
       "       'United States, South Korea, China, Taiwan',\n",
       "       'United States, Taiwan, China', 'Canada, Malaysia, United States',\n",
       "       'United States, India, United Kingdom',\n",
       "       'Norway, Sweden, United States', 'France, Canada, United States',\n",
       "       'United States, Poland, Slovenia, Czech Republic, United Kingdom',\n",
       "       'United States, Canada, Australia, Taiwan',\n",
       "       'China, Hong Kong, United States',\n",
       "       'Austria, United Kingdom, United States', 'China',\n",
       "       'New Zealand, United States',\n",
       "       'United States, Spain, France, Canada, United Kingdom',\n",
       "       'South Africa',\n",
       "       'United States, Ghana, Burkina Faso, United Kingdom, Germany, Ethiopia',\n",
       "       'Turkey', 'United States, India, France', 'Finland',\n",
       "       'China, Canada, United States',\n",
       "       'South Africa, United States, Japan', 'Nigeria',\n",
       "       'Spain, United States', 'Belgium', 'United States, Singapore',\n",
       "       'United Kingdom, Australia, France',\n",
       "       'United Kingdom, Australia, France, United States',\n",
       "       'South Africa, United States',\n",
       "       'United States, Italy, France, Japan',\n",
       "       'United States, Italy, Romania, United Kingdom',\n",
       "       'Argentina, Venezuela', 'China, Hong Kong', 'Hong Kong',\n",
       "       'United States, China, Hong Kong', ', South Korea', 'India, Nepal',\n",
       "       'New Zealand, Australia, France, United States',\n",
       "       'Italy, Brazil, Greece', 'Jordan', 'Belgium, United Kingdom',\n",
       "       'Switzerland, United Kingdom, Australia', 'Israel, United States',\n",
       "       'Brazil', 'Argentina, Spain', 'Taiwan', 'United States, Nigeria',\n",
       "       'Spain, United Kingdom, United States',\n",
       "       'Spain, France, United Kingdom, United States',\n",
       "       ', France, Algeria', 'Poland',\n",
       "       'France, Israel, Germany, United States, United Kingdom',\n",
       "       'Saudi Arabia', 'Thailand', 'Indonesia', 'Egypt, Denmark, Germany',\n",
       "       'United States, Switzerland', 'Hong Kong, Canada, United States',\n",
       "       'Kuwait, United States', 'France, Canada, United States, Spain',\n",
       "       'France, Netherlands, Singapore',\n",
       "       'Ireland, United States, United Kingdom', 'Egypt', 'Malaysia',\n",
       "       'Australia, New Zealand', 'Belgium, Netherlands',\n",
       "       'South Korea, Czech Republic', 'Australia, Germany', 'Vietnam',\n",
       "       'United Kingdom, Belgium',\n",
       "       'United Kingdom, Australia, United States',\n",
       "       'France, Japan, United States',\n",
       "       'United Kingdom, Germany, Spain, United States',\n",
       "       'United Kingdom, United States, France, Italy',\n",
       "       'United States, Germany, Canada',\n",
       "       'United States, France, Italy, United Kingdom',\n",
       "       'United States, United Kingdom, Germany, Hungary', 'Lebanon',\n",
       "       'Romania', 'Finland, Germany', 'Lebanon, Syria', 'Philippines',\n",
       "       'Iceland', 'Philippines, Singapore, Indonesia',\n",
       "       'China, United States, Canada', 'Lebanon, United Arab Emirates',\n",
       "       'Canada, United States, Denmark', 'Mexico, France, Colombia',\n",
       "       'Netherlands', 'Germany, United States, France',\n",
       "       'United Kingdom, France, Germany, United States',\n",
       "       'Norway, Denmark', 'Syria, France, Lebanon, Qatar',\n",
       "       'United States, Czech Republic', 'Mauritius',\n",
       "       'Canada, South Africa', 'Austria', 'Mexico, Brazil',\n",
       "       'Germany, France', 'United Kingdom, France, Spain, United States',\n",
       "       'United States, Russia',\n",
       "       'United States, United Kingdom, New Zealand',\n",
       "       'Canada, Nigeria, United States',\n",
       "       'France, United States, United Kingdom, Canada',\n",
       "       'India, United Kingdom',\n",
       "       'Czech Republic, United Kingdom, United States',\n",
       "       'China, United Kingdom', 'Italy, United Kingdom', 'China, Taiwan',\n",
       "       'United States, Brazil, Japan, Spain, India',\n",
       "       'United States, China, United Kingdom', 'Cameroon',\n",
       "       'Lebanon, Palestine, Denmark, Qatar', 'Uruguay, Germany',\n",
       "       'Egypt, Saudi Arabia',\n",
       "       'United Kingdom, France, Poland, Germany, United States',\n",
       "       'Ireland, Switzerland, United Kingdom, France, United States',\n",
       "       'United Kingdom, South Africa, France',\n",
       "       'Ireland, United Kingdom, France, Germany', 'United Kingdom,',\n",
       "       'Kenya', 'Spain, Argentina',\n",
       "       'India, United Kingdom, France, Qatar', 'Belgium, France',\n",
       "       'Argentina, Chile', 'United States, Thailand', 'Chile, Brazil',\n",
       "       'United States, Colombia', 'Canada, United States, United Kingdom',\n",
       "       'Uruguay', 'Luxembourg', 'United States, Cambodia, Romania',\n",
       "       'Bangladesh', 'Spain, Belgium, United States',\n",
       "       'United Kingdom, United States, Australia',\n",
       "       'Portugal, United States', 'Portugal, Spain',\n",
       "       'India, United States', 'United Kingdom, Spain, United States',\n",
       "       'Hungary, United States', 'Canada, United States, Cayman Islands',\n",
       "       'India, France', 'Canada, Hungary, United States',\n",
       "       'United Kingdom, Germany, France, United States',\n",
       "       'Denmark, United States', 'Senegal', 'France, Algeria',\n",
       "       'United Kingdom, Finland, Germany, United States, Australia, Japan, France, Ireland',\n",
       "       'Philippines, Canada, United Kingdom, United States',\n",
       "       'Ireland, France, Iceland, United States, Mexico, Belgium, United Kingdom, Hong Kong',\n",
       "       'Singapore', 'Kuwait', 'United States, France, Serbia',\n",
       "       'Spain, Italy', 'United States, Ireland, United Kingdom, India',\n",
       "       'United Kingdom, Singapore', 'Hong Kong, United States',\n",
       "       'United States, China, Canada', 'Canada, United States, Ireland',\n",
       "       'Lebanon, Canada, France', 'Japan, Canada, United States',\n",
       "       'Spain, France, Canada',\n",
       "       'Denmark, Singapore, Canada, United States',\n",
       "       'United States, France, Denmark', 'United States, China, Colombia',\n",
       "       'Spain, Thailand, United States', 'Mexico, Spain',\n",
       "       'Ireland, Luxembourg, Belgium', 'Canada, Belgium',\n",
       "       'Lebanon, United Arab Emirates, France, Switzerland, Germany',\n",
       "       'France, Belgium, Italy',\n",
       "       'Lebanon, United States, United Arab Emirates', 'Lebanon, France',\n",
       "       'France, Lebanon', 'France, Lebanon, United Kingdom',\n",
       "       'France, Norway, Lebanon, Belgium',\n",
       "       'Sweden, Czech Republic, United Kingdom, Denmark, Netherlands',\n",
       "       'United States, United Kingdom, India', 'Indonesia, Netherlands',\n",
       "       'Turkey, South Korea', 'Serbia, United States', 'Namibia',\n",
       "       'United Kingdom, Kenya', 'United Kingdom, France, Germany, Spain',\n",
       "       'United Kingdom, France, United States, Belgium, Luxembourg, China, Germany',\n",
       "       'Thailand, United States',\n",
       "       'United States, France, Canada, Belgium', 'United Kingdom, China',\n",
       "       'Germany, China, United Kingdom',\n",
       "       'Australia, New Zealand, United States',\n",
       "       'Hong Kong, Iceland, United States', 'France, Australia, Germany',\n",
       "       'United States, Belgium, Canada, France', 'South Africa, Angola',\n",
       "       'United States, Philippines',\n",
       "       'United States, United Kingdom, Canada, China',\n",
       "       'Turkey, United States', 'Peru, Germany, Norway', 'Mozambique',\n",
       "       'Brazil, France', 'China, Spain, South Korea, United States',\n",
       "       'Spain, Germany', 'Hong Kong, China',\n",
       "       'France, Belgium, Luxembourg, Cambodia,', 'Belarus',\n",
       "       'Indonesia, United Kingdom', 'Ghana',\n",
       "       'Spain, France, Canada, United States', 'Chile, Italy',\n",
       "       'United Kingdom, Nigeria', 'Chile', 'France, Egypt',\n",
       "       'Egypt, France', 'France, Brazil, Spain, Belgium',\n",
       "       'Egypt, Algeria', 'Canada, South Korea, United States',\n",
       "       'Nigeria, United Kingdom', 'United States, France, Canada',\n",
       "       'Poland, United States',\n",
       "       'United Arab Emirates, Jordan, Lebanon, Saudi Arabia',\n",
       "       'United States, Mexico, Spain, Malta',\n",
       "       'Saudi Arabia, United Arab Emirates', 'Zimbabwe',\n",
       "       'United Kingdom, Germany, United Arab Emirates, New Zealand',\n",
       "       'Canada, Nigeria',\n",
       "       'Saudi Arabia, Netherlands, Germany, Jordan, United Arab Emirates, United States',\n",
       "       'United Kingdom, Spain', 'Finland, France',\n",
       "       'United Kingdom, Germany, United States, France',\n",
       "       'India, United Kingdom, China, Canada, Japan, South Korea, United States',\n",
       "       'Italy, United Kingdom, France', 'United States, Mexico, Colombia',\n",
       "       'Turkey, India', 'Italy, Turkey',\n",
       "       'United Kingdom, United States, Japan',\n",
       "       'Puerto Rico, United States, Colombia', 'Uruguay, Argentina',\n",
       "       'United States, United Kingdom, Japan', 'United States, Argentina',\n",
       "       'United Kingdom, Italy',\n",
       "       'United Kingdom, France, Belgium, Canada, United States',\n",
       "       'Netherlands, Germany, Denmark, United Kingdom', 'Hungary',\n",
       "       'Austria, Germany', 'Taiwan, China', 'South Korea, United States',\n",
       "       'Brazil, United Kingdom', 'Pakistan, United States',\n",
       "       'Romania, France, Switzerland, Germany', 'Romania, United Kingdom',\n",
       "       'France, Malta, United States', 'Cyprus',\n",
       "       'United Kingdom, France, Belgium, Ireland, United States',\n",
       "       'United States, Norway, Canada', 'Kenya, United States',\n",
       "       'Taiwan, Malaysia', 'Uruguay, Argentina, Germany, Spain',\n",
       "       'United States, United Kingdom, France, Germany, Japan',\n",
       "       'United States, France, Japan', 'Spain, France, United States',\n",
       "       'Indonesia, South Korea, Singapore',\n",
       "       'Netherlands, Germany, Italy, Canada',\n",
       "       'Spain, Germany, Denmark, United States', 'Norway, Sweden',\n",
       "       'South Korea, Canada, United States, China',\n",
       "       'Argentina, Uruguay, Serbia', 'Mauritius, South Africa',\n",
       "       'United States, Poland',\n",
       "       'United Kingdom, United States, Germany, Denmark, Belgium, Japan',\n",
       "       'India, Germany', 'India, United Kingdom, Canada, United States',\n",
       "       'Philippines, United States', 'Romania, Bulgaria, Hungary',\n",
       "       'Uruguay, Guatemala', 'France, Senegal, Belgium',\n",
       "       'United Kingdom, Canada', 'Mexico, United States, Spain, Colombia',\n",
       "       'Canada, Norway', 'Singapore, United States',\n",
       "       'Finland, Germany, Belgium', 'United States, Chile',\n",
       "       'United Kingdom, Japan, United States', 'Spain, United Kingdom',\n",
       "       'Argentina, United States, Mexico',\n",
       "       'United States, South Korea, Japan', 'Canada, Australia',\n",
       "       'United Kingdom, Hungary, Australia',\n",
       "       'United States, United Kingdom, Germany', 'Switzerland',\n",
       "       'Singapore, Malaysia',\n",
       "       'France, Belgium, Luxembourg, Romania, Canada, United States',\n",
       "       'South Africa, Nigeria', 'Spain, France',\n",
       "       'United Kingdom, Hong Kong', 'Pakistan', 'Brazil, United States',\n",
       "       'Denmark, Brazil, France, Portugal, Sweden', 'India, Turkey',\n",
       "       'Malaysia, Singapore, Hong Kong', 'Philippines, Singapore',\n",
       "       'Australia, Canada', 'Taiwan, China, France, United States',\n",
       "       'Germany, Italy', 'Colombia, Peru, United Kingdom',\n",
       "       'Thailand, China, United States', 'Argentina, United States',\n",
       "       'Uruguay, Spain, Mexico', 'France, Luxembourg, Canada',\n",
       "       'Denmark, Spain', 'Chile, Argentina',\n",
       "       'United Kingdom, Belgium, Sweden', 'Canada, Brazil',\n",
       "       'Canada, Germany', 'Pakistan, United Arab Emirates',\n",
       "       'Ghana, United States', 'Mexico, Finland',\n",
       "       'United Arab Emirates, United Kingdom, India',\n",
       "       'Netherlands, Belgium', 'United States, Taiwan',\n",
       "       'Austria, Iraq, United States', 'United Kingdom, Malawi',\n",
       "       'Paraguay, Argentina', 'United Kingdom, Russia, United States',\n",
       "       'India, Pakistan', 'Indonesia, Singapore', 'Spain, Belgium',\n",
       "       'Iceland, Sweden, Belgium', 'Croatia', 'Uruguay, Argentina, Spain',\n",
       "       'United Kingdom, Ireland, United States',\n",
       "       'Canada, Germany, France, United States', 'United Kingdom, Japan',\n",
       "       'Norway, Denmark, Netherlands, Sweden',\n",
       "       'Hong Kong, China, United States', 'Ireland, Canada',\n",
       "       'Italy, Switzerland, France, Germany', 'Mexico, Netherlands',\n",
       "       'United States, Sweden', 'Germany, France, Russia',\n",
       "       'France, Iran, United States', 'United Kingdom, India',\n",
       "       'Russia, Poland, Serbia', 'Spain, Portugal', 'Peru',\n",
       "       'Mexico, Argentina',\n",
       "       'United Kingdom, Canada, United States, Cayman Islands',\n",
       "       'Indonesia, United States',\n",
       "       'United States, Israel, United Kingdom, Canada',\n",
       "       'Norway, Iceland, United States', 'Czech Republic, United States',\n",
       "       'United Kingdom, India, United States',\n",
       "       'United Kingdom, West Germany', 'India, Australia',\n",
       "       'United States,', 'Belgium, United Kingdom, United States',\n",
       "       'India, Germany, Austria',\n",
       "       'United States, Brazil, South Korea, Mexico, Japan, Germany',\n",
       "       'Spain, Mexico', 'China, Japan', 'Argentina, France',\n",
       "       'China, United States, United Kingdom',\n",
       "       'France, Luxembourg, United States',\n",
       "       'China, United States, Australia', 'Colombia, Mexico',\n",
       "       'Chile, Peru', 'Argentina, Italy', 'Canada, Japan, United States',\n",
       "       'United Kingdom, Canada, United States, Germany',\n",
       "       'Italy, Switzerland, Albania, Poland',\n",
       "       'United States, Japan, Canada', 'Cambodia',\n",
       "       'Italy, United States, Argentina',\n",
       "       'Saudi Arabia, Syria, Egypt, Lebanon, Kuwait',\n",
       "       'United States, Canada, Indonesia, United Kingdom, China, Singapore',\n",
       "       'Spain, Colombia',\n",
       "       'United Kingdom, South Africa, Australia, United States',\n",
       "       'Bulgaria', 'Argentina, Brazil, France, Poland, Germany, Denmark',\n",
       "       'United Kingdom, Spain, United States, Germany',\n",
       "       'Philippines, Qatar', 'Netherlands, Belgium, Germany, Jordan',\n",
       "       'United Arab Emirates, United States', 'Norway, Germany, Sweden',\n",
       "       'South Korea, China', 'Georgia', 'Soviet Union, India',\n",
       "       'Canada, Germany, South Africa',\n",
       "       'South Korea, China, United States', 'India, Soviet Union',\n",
       "       'India, Mexico', 'Georgia, Germany, France',\n",
       "       'United Arab Emirates, Romania', 'India, Malaysia',\n",
       "       'Germany, Jordan, Netherlands', 'Turkey, France, Germany, Poland',\n",
       "       'Greece, United States', 'Norway, Germany', 'France, Morocco',\n",
       "       'Cambodia, United States', 'United States, Colombia, Mexico',\n",
       "       'United Kingdom, Italy, Israel, Peru, United States',\n",
       "       'Argentina, Uruguay, Spain, France',\n",
       "       'United Kingdom, France, United States, Belgium',\n",
       "       'France, Canada, China, Cambodia',\n",
       "       'United Kingdom, France, Belgium, United States', 'Chile, France',\n",
       "       'Netherlands, United States', 'France, United Kingdom, India',\n",
       "       'Czech Republic, Slovakia', 'Singapore, France',\n",
       "       'Spain, Switzerland', 'United States, Australia, China',\n",
       "       'South Africa, United States, Germany', 'Spain, Italy, Argentina',\n",
       "       'Chile, Spain, Argentina, Germany', 'West Germany',\n",
       "       'Austria, Czech Republic', 'Lebanon, Qatar',\n",
       "       'United Kingdom, Jordan, Qatar, Iran',\n",
       "       'France, South Korea, Japan', 'Israel, Germany, France',\n",
       "       'Canada, Japan, Netherlands', 'United States, Hungary',\n",
       "       'France, Qatar', 'United Kingdom, Germany, Canada',\n",
       "       'Ireland, South Africa', 'Chile, United States, France',\n",
       "       'United Kingdom, Ukraine, United States',\n",
       "       'Germany, Australia, France, China', 'Norway, United States',\n",
       "       'United States, Bermuda, Ecuador',\n",
       "       'United States, Hungary, Ireland, Canada',\n",
       "       'United Kingdom, Egypt, United States',\n",
       "       'United States, France, United Kingdom', 'Spain, Mexico, France',\n",
       "       'Hong Kong, China, Singapore',\n",
       "       'South Africa, China, United States', 'Denmark, France, Poland',\n",
       "       'New Zealand, United Kingdom',\n",
       "       'Netherlands, Denmark, South Africa', 'Iran, France',\n",
       "       'United Kingdom, United States, France, Germany',\n",
       "       'Australia, France', 'Ireland, United Kingdom, United States',\n",
       "       'United Kingdom, France, Germany', 'Canada, Luxembourg',\n",
       "       'Brazil, Netherlands, United States, Colombia, Austria, Germany',\n",
       "       'France, Canada, Belgium',\n",
       "       'Bulgaria, United States, Spain, Canada', 'Sweden, Netherlands',\n",
       "       'France, United States, Mexico',\n",
       "       'Australia, United Kingdom, United Arab Emirates, Canada',\n",
       "       'Australia, Armenia, Japan, Jordan, Mexico, Mongolia, New Zealand, Philippines, South Africa, Sweden, United States, Uruguay',\n",
       "       'India, Iran', 'France, Belgium, Spain',\n",
       "       'Denmark, Sweden, Israel, United States', 'United States, Iceland',\n",
       "       'United Kingdom, Russia',\n",
       "       'United States, Israel, Italy, South Africa',\n",
       "       'Netherlands, Denmark, France, Germany', 'South Korea, Japan',\n",
       "       'United Kingdom, Pakistan', 'France, New Zealand',\n",
       "       'United Kingdom, Czech Republic, United States, Germany, Bahamas',\n",
       "       'China, Germany, India, United States', 'Germany, Sri Lanka',\n",
       "       'United States, India, Bangladesh',\n",
       "       'United States, Canada, France', 'Brazil, France, Germany',\n",
       "       'Germany, United States, Hong Kong, Singapore',\n",
       "       'France, Germany, Switzerland',\n",
       "       'Germany, France, Luxembourg, United Kingdom, United States',\n",
       "       'United Kingdom, Canada, Italy', 'Czech Republic, France',\n",
       "       'Taiwan, Hong Kong, United States, China', 'Germany, Australia',\n",
       "       'United Kingdom, Poland, United States', 'Denmark, Zimbabwe',\n",
       "       'United Kingdom, South Africa',\n",
       "       'Finland, Sweden, Norway, Latvia, Germany',\n",
       "       'South Africa, United States, New Zealand, Canada',\n",
       "       'United States, Italy, United Kingdom, Liechtenstein',\n",
       "       'Denmark, France, Belgium, Italy, Netherlands, United States, United Kingdom',\n",
       "       'United States, Australia, Mexico',\n",
       "       'United Kingdom, Czech Republic, Germany, United States',\n",
       "       'France, China, Japan, United States',\n",
       "       'United States, South Korea, China',\n",
       "       'Pakistan, Norway, United States',\n",
       "       'United States, Canada, Belgium, United Kingdom',\n",
       "       'Canada, France, Italy, Morocco, United States',\n",
       "       'Canada, Spain, France', 'United States, Indonesia',\n",
       "       'Spain, France, Italy',\n",
       "       'United Arab Emirates, United States, United Kingdom',\n",
       "       'United Kingdom, Israel, Russia', 'Spain, Cuba',\n",
       "       'United States, France, Mexico', 'United States, Nicaragua',\n",
       "       'United Kingdom, United States, Spain, Germany, Greece, Canada',\n",
       "       'Italy, Canada, France',\n",
       "       'United Kingdom, Denmark, Canada, Croatia', 'Italy, Germany',\n",
       "       'United States, France, United Kingdom, Japan',\n",
       "       'United States, United Kingdom, Denmark, Sweden',\n",
       "       'United States, France, Canada, Spain',\n",
       "       'Russia, United States, China', 'United States, Canada, Germany',\n",
       "       'United States, United Arab Emirates',\n",
       "       'Ireland, United Kingdom, Italy, United States', 'Poland,',\n",
       "       'Slovenia, Croatia, Germany, Czech Republic, Qatar',\n",
       "       'Canada, United Kingdom, Netherlands',\n",
       "       'United States, Spain, Germany', 'India, Japan',\n",
       "       'China, South Korea, United States',\n",
       "       'United Kingdom, France, Belgium',\n",
       "       'Canada, Ireland, United States',\n",
       "       'United Kingdom, United States, Dominican Republic',\n",
       "       'United States, Senegal', 'Germany, United Kingdom, United States',\n",
       "       'South Africa, Germany, Netherlands, France',\n",
       "       'Ireland, United States, France', 'Germany, United States, Canada',\n",
       "       'United Kingdom, Germany, Canada, United States',\n",
       "       'United States, France, Canada, Lebanon, Qatar',\n",
       "       'Netherlands, Belgium, United Kingdom, United States',\n",
       "       'France, Belgium, China, United States',\n",
       "       'United States, Chile, Israel',\n",
       "       'United Kingdom, Norway, Denmark, Germany, Sweden',\n",
       "       'Norway, Denmark, Sweden', 'China, India, Nepal',\n",
       "       'Colombia, Mexico, United States', 'United Kingdom, South Korea',\n",
       "       'United States, Greece, Brazil', 'South Korea, France',\n",
       "       'United States, Australia, Samoa, United Kingdom',\n",
       "       'Germany, United Kingdom', 'Argentina, Chile, Peru',\n",
       "       'Turkey, Azerbaijan', 'Poland, West Germany',\n",
       "       'Germany, United States, Sweden', 'Canada, Spain',\n",
       "       'United States, Cambodia', 'United States, Greece',\n",
       "       'Norway, United Kingdom, France, Ireland',\n",
       "       'United Kingdom, Poland', 'Israel, Sweden, Germany, Netherlands',\n",
       "       'Switzerland, France', 'Italy, India', 'United States, Botswana',\n",
       "       'Chile, Argentina, France, Spain, United States',\n",
       "       'United States, India, South Korea, China',\n",
       "       'Denmark, Germany, Belgium, United Kingdom, France',\n",
       "       'Denmark, Germany, Belgium, United Kingdom, France, Sweden',\n",
       "       'Brazil, India, China, United States',\n",
       "       'Denmark, France, United States, Sweden', 'Australia, Iraq',\n",
       "       'China, Morocco, Hong Kong', 'Canada, United States, Germany',\n",
       "       'United Kingdom, Thailand', 'Venezuela, Colombia',\n",
       "       'France, Germany, Czech Republic, Belgium',\n",
       "       'Switzerland, Vatican City, Italy, Germany, France',\n",
       "       'Portugal, France, Poland, United States',\n",
       "       'United States, New Zealand, Japan',\n",
       "       'United States, Netherlands, Japan, France', 'India, Switzerland',\n",
       "       'Canada, India', 'United States, Morocco',\n",
       "       'Singapore, Japan, France',\n",
       "       'Canada, Mexico, Germany, South Africa',\n",
       "       'Germany, France, United States, Canada, United Kingdom',\n",
       "       'United States, Uruguay', 'India, Canada',\n",
       "       'Ireland, Canada, United Kingdom, United States',\n",
       "       'United States, Germany, Australia', 'Australia, France, Ireland',\n",
       "       'Australia, India', 'United States, United Kingdom, Canada, Japan',\n",
       "       'Sweden, United Kingdom, Finland', 'Hong Kong, Taiwan',\n",
       "       'United States, United Kingdom, Spain, South Korea', 'Guatemala',\n",
       "       'Ukraine',\n",
       "       'Italy, South Africa, West Germany, Australia, United States',\n",
       "       'United States, Germany, United Kingdom, Australia',\n",
       "       'Italy, France, Switzerland', 'Canada, France, United States',\n",
       "       'Switzerland, United States', 'Thailand, Canada, United States',\n",
       "       'United Kingdom, New Zealand',\n",
       "       'Czech Republic, United Kingdom, France',\n",
       "       'Australia, United Kingdom, Canada', 'Jamaica, United States',\n",
       "       'Australia, United Kingdom, United States, New Zealand, Italy, France',\n",
       "       'France, United States, Canada',\n",
       "       'United Kingdom, France, Canada, Belgium, United States',\n",
       "       'Denmark, United Kingdom, Sweden', 'United States, Kazakhstan',\n",
       "       'Argentina, France, United States, Germany, Qatar',\n",
       "       'United States, Germany, United Kingdom, Italy',\n",
       "       'United States, New Zealand, United Kingdom',\n",
       "       'Finland, United States', 'Spain, France, Uruguay',\n",
       "       'United States, Canada, China',\n",
       "       'Ireland, Canada, Luxembourg, United States, United Kingdom, Philippines, India',\n",
       "       'United States, Czech Republic, United Kingdom', 'Israel, Germany',\n",
       "       'Mexico, France',\n",
       "       'Israel, Germany, Poland, Luxembourg, Belgium, France, United States',\n",
       "       'Austria, United States', 'United Kingdom, Lithuania',\n",
       "       'United States, Greece, United Kingdom',\n",
       "       'United Kingdom, China, United States, India',\n",
       "       'United States, Sweden, Norway',\n",
       "       'United Kingdom, United States, Morocco',\n",
       "       'United States, United Kingdom, Morocco',\n",
       "       'Spain, Canada, United States',\n",
       "       'United States, India, United Arab Emirates',\n",
       "       'United Kingdom, Canada, France, United States',\n",
       "       'India, Germany, France',\n",
       "       'Belgium, Ireland, Netherlands, Germany, Afghanistan',\n",
       "       'France, Canada, Italy, United States, China',\n",
       "       'Ireland, United Kingdom, Greece, France, Netherlands',\n",
       "       'Denmark, Indonesia, Finland, Norway, United Kingdom, Israel, France, United States, Germany, Netherlands',\n",
       "       'United States, Australia, South Africa, United Kingdom',\n",
       "       'United States, Germany, Mexico',\n",
       "       'Somalia, Kenya, Sudan, South Africa, United States',\n",
       "       'United States, Canada, Japan, Panama',\n",
       "       'United Kingdom, Spain, Belgium', 'Serbia, South Korea, Slovenia',\n",
       "       'Denmark, United Kingdom, South Africa, Sweden, Belgium',\n",
       "       'Germany, Canada, United States',\n",
       "       'Ireland, Canada, United States, United Kingdom',\n",
       "       'New Zealand, United Kingdom, Australia',\n",
       "       'United Kingdom, Australia, Canada, United States',\n",
       "       'Germany, United States, Italy', 'United States, Venezuela',\n",
       "       'United Kingdom, Canada, Japan',\n",
       "       'United Kingdom, United States, Czech Republic',\n",
       "       'United Kingdom, Brazil, Germany',\n",
       "       'United Kingdom, Namibia, South Africa, Zimbabwe, United States',\n",
       "       'Canada, United States, India, United Kingdom',\n",
       "       'Switzerland, United Kingdom, United States',\n",
       "       'United Kingdom, India, Sweden',\n",
       "       'United States, Brazil, India, Uganda, China',\n",
       "       'Peru, United States, United Kingdom',\n",
       "       'Germany, United States, United Kingdom, Canada',\n",
       "       'Canada, India, Thailand, United States, United Arab Emirates',\n",
       "       'United States, East Germany, West Germany',\n",
       "       'France, Netherlands, South Africa, Finland',\n",
       "       'Egypt, Austria, United States', 'Russia, Spain',\n",
       "       'Croatia, Slovenia, Serbia, Montenegro', 'Japan, Canada',\n",
       "       'United States, France, South Korea, Indonesia',\n",
       "       'United Arab Emirates, Jordan'], dtype=object)"
      ]
     },
     "execution_count": 27,
     "metadata": {},
     "output_type": "execute_result"
    }
   ],
   "source": [
    "country"
   ]
  },
  {
   "cell_type": "code",
   "execution_count": 28,
   "metadata": {},
   "outputs": [],
   "source": [
    "\n",
    "country = pd.concat([amazon, hulu, disney, netflix_df]).country.unique()"
   ]
  },
  {
   "cell_type": "code",
   "execution_count": 29,
   "metadata": {},
   "outputs": [
    {
     "data": {
      "text/plain": [
       "<AxesSubplot:>"
      ]
     },
     "execution_count": 29,
     "metadata": {},
     "output_type": "execute_result"
    },
    {
     "data": {
      "image/png": "[encoded data removed]",
      "text/plain": [
       "<Figure size 640x480 with 1 Axes>"
      ]
     },
     "metadata": {},
     "output_type": "display_data"
    }
   ],
   "source": [
    "disney.date_added.apply(lambda x: str(x)).apply(lambda x: x.split()[0]).value_counts().plot.bar()"
   ]
  },
  {
   "cell_type": "code",
   "execution_count": 30,
   "metadata": {},
   "outputs": [
    {
     "data": {
      "text/plain": [
       "array([<class 'str'>, <class 'float'>], dtype=object)"
      ]
     },
     "execution_count": 30,
     "metadata": {},
     "output_type": "execute_result"
    }
   ],
   "source": [
    "disney.date_added.apply(lambda x: type(x)).unique()"
   ]
  },
  {
   "cell_type": "code",
   "execution_count": 31,
   "metadata": {},
   "outputs": [
    {
     "name": "stdout",
     "output_type": "stream",
     "text": [
      "<class 'pandas.core.frame.DataFrame'>\n",
      "RangeIndex: 3073 entries, 0 to 3072\n",
      "Data columns (total 12 columns):\n",
      " #   Column        Non-Null Count  Dtype  \n",
      "---  ------        --------------  -----  \n",
      " 0   show_id       3073 non-null   object \n",
      " 1   type          3073 non-null   object \n",
      " 2   title         3073 non-null   object \n",
      " 3   director      3 non-null      object \n",
      " 4   cast          0 non-null      float64\n",
      " 5   country       1620 non-null   object \n",
      " 6   date_added    3045 non-null   object \n",
      " 7   release_year  3073 non-null   int64  \n",
      " 8   rating        2553 non-null   object \n",
      " 9   duration      2594 non-null   object \n",
      " 10  listed_in     3073 non-null   object \n",
      " 11  description   3069 non-null   object \n",
      "dtypes: float64(1), int64(1), object(10)\n",
      "memory usage: 288.2+ KB\n"
     ]
    }
   ],
   "source": [
    "hulu.info()"
   ]
  },
  {
   "cell_type": "code",
   "execution_count": 32,
   "metadata": {},
   "outputs": [
    {
     "name": "stderr",
     "output_type": "stream",
     "text": [
      "2022-11-01 02:09:43.882 \n",
      "  \u001b[33m\u001b[1mWarning:\u001b[0m to view this Streamlit app on a browser, run it with the following\n",
      "  command:\n",
      "\n",
      "    streamlit run /Users/derek/opt/miniconda3/envs/ds/lib/python3.10/site-packages/ipykernel_launcher.py [ARGUMENTS]\n"
     ]
    }
   ],
   "source": [
    "import movie_def as mdf\n",
    "import matplotlib.pyplot as plt\n",
    "\n",
    "mdf.show_number(amazon, '#cc0000')\n",
    "plt.show()"
   ]
  },
  {
   "cell_type": "code",
   "execution_count": 33,
   "metadata": {},
   "outputs": [
    {
     "data": {
      "text/plain": [
       "'Ricky Velez: Here\\'s Everything Silent Night The Marksman Gaia Settlers The Halloween Candy Magic Pet The Evil Next Door The Next Thing You Eat Queens The Bachelorette The Real Queens of Hip-Hop: The Women Who Changed the Game Dream Horse Out of the Shadows: The Man Behind the Steele Dossier Wakefield Home Sweet Home Showtime Championship Boxing: Lopez vs. Salido (R) Showtime Championship Boxing: Wilder vs. Molina America\\'s Book of Secrets Beyond Oak Island Beyond Scared Straight Cheer Camp Killer Hoarders Little Women: Atlanta Marrying Millions Nightwatch Seven Year Switch Sleepwalker Swamp People Unsolved Acapulco Shore Catfish México Censor Dani Who? La Culpa es de Cortés Out of Death The Real Housewives of Orange County Why Not Us BELLATOR MMA: Kongo vs. Johnson 2 CHIPS Dopesick In the Crease Champaign, Ill The Loneliest Whale: The Search for 52 Gunda Buried Demon Slayer Kimetsu No Yaiba G.I. Joe: Retaliation Rogue Hostage Roots Less Traveled Shark Tank Yashahime: Princess Half-Demon General Hospital Jacinta ABC News Live Prime with Linsey Davis Baker\\'s Dozen FIFA World Cup 2022 Qualifying BELLATOR MMA 257: Nemkov vs. Davis 2 (R) BELLATOR MMA: Davis vs. Nemkov Castle The Hills Presents: Speidi\\'s Wedding Unveiled America\\'s Funniest Home Videos Maggie\\'s Plan The Bradshaw Bunch The Program Unfaithful Finding Your Feet Pacific Airshow Saturday Night Live College Swimming & Diving Men\\'s College Hockey The Most Magical Story On Earth: 50 Years of Walt Disney World A.I.: Artificial Intelligence Air Force One Ali Asylum Big Sky Bite Size Halloween Blippi\\'s Spooky Spell Halloween Boxcar Bertha Cake Cedar Rapids Chasing Papi Class Clifford Clockstoppers Code 46 Crimson Tide Date Night Extended Version Dead of Winter Diary of a Wimpy Kid: Rodrick Rules Double, Double, Toil and Trouble Dr. No Edge of the World Escape from Alcatraz Exorcist: The Beginning Flatliners From Russia With Love GoldenEye Goldfinger Happy Feet Happy Feet Two House of Games Intersection License to Kill Light It Up Lost In Space Mad Max Madhouse Maze My Best Friend\\'s Wedding Peeples Queen of the Damned Racing With the Moon Remo Williams: The Adventure Begins Resident Evil: Retribution Rushmore SCB: Calzaghe vs. Lacy Signs Sleepless in Seattle Snatch Species Species II Species III Species: The Awakening Star Trek II: The Wrath of Khan Star Trek III: The Search for Spock Star Trek IV: The Voyage Home Star Trek V: The Final Frontier Star Trek VI: The Undiscovered Country Star Trek VIII: First Contact Star Trek: Generations Star Trek: Insurrection Star Trek: Nemesis Star Trek: The Motion Picture Station 19 Sweet Home Alabama Sweet Land The Extreme Adventures of Super Dave The Holiday The Hunger Games The Hunger Games: Catching Fire The Hunger Games: Mockingjay, Part 1 The Hunger Games: Mockingjay, Part 2 The Mask of Zorro The O.C. The Perfect Holiday The Recruit The Rocky Horror Picture Show The Saint The Spy Who Loved Me The Taking of Pelham 1 2 3 The Untouchables The Village The Vow Theater of Blood Total Recall Unforgettable Victor Frankenstein Waitress When A Man Loves A Woman Within Wolves at the Door Wrong Turn 2: Dead End American Dad! BuzzFeed Unsolved: True Crime Entre Hombres L.A. Rams Cheerleaders: Making the Squad True Crime: The Murder of Monica Leech Minor Premise Year of Extremes 9-1-1 Felix and the Hidden Treasure Wild Crime Bob\\'s Burgers Family Guy Nuclear Family The Great North The Rookie The Simpsons BMF SEC Storied Gemini Law & Order: Special Victims Unit The Eric Andre Show This World Alone Trolls: TrollsTopía Alter Ego El Árbol Familiar de los Croods Funhouse Home Economics The Conners The Croods: Family Tree The Goldbergs The Masked Singer The Wonder Years GMA3: What You Need to Know Dancing With the Stars Jimmy Kimmel Live Late Night With Seth Meyers The Tonight Show Starring Jimmy Fallon Will & Grace Grown Ups Mom To Tell the Truth UFC Embedded America Strong Dark Side of Football Women\\'s College Hockey Madagascar: Algo Salvaje Soul of a Nation Presents: Corazón de América -- Celebrating Hispanic Culture Divorce Court On Chesil Beach Riders of Justice Stalker All About Nina Chuck\\'s World Dark Side of the Ring Gilberto Santa Rosa, 40…y Contando Hitman: Agent 47 Joseph: King of Dreams Killer Cases Level Playing Field Los Croods 2: Una Nueva Era Love, Simon Maze Runner: The Death Cure Santana - Corazón: Live From Mexico, Live It to Believe It Thalía \\'Viva Tour\\' (En Vivo) The King Stays King Yandel: Legacy, De Lider a Leyenda Tour The Big Leap Colette John Bronco Rides Again Y: The Last Man Fruits Basket (2019) High Ground Detainee 001 Holey Moley Project Bakeover Salvage Kings Transporter 3 Worst to First More Than An Athlete Our Time: UCF Football Women of 9/11: A Special Edition of 20/20 With Robin Roberts La La Land Wu-Tang: An American Saga 9/11 20 Years Later: Women of Resilience 9/11 Twenty Years Later: The Longest Shadow Dish Nation Logan SportsCenter Eyewitness to 9/11: Behind the Lens Men\\'s College Water Polo Bolden CMA Summer Jam The D\\'Amelio Show Undine About Endlessness Death in Texas Locked Up Abroad Made By Her: Monumental Women SMU Football: The Hilltop The Unthinkable Trolls: TrollsTopia Blue City Cold Creek Manor Crazy Heart Edward Scissorhands El Dorado Election Eli’s Places Free Willy Free Willy 2: The Adventure Home Free Willy 3: The Rescue Free Willy: Escape From Pirate\\'s Cove Friday The 13th, Part III Friday the 13th: The Final Chapter Gattaca Girls! Girls! Girls! Hoosiers I Spit on Your Grave I Spit On Your Grave 2 I Spit on Your Grave 3 Internal Affairs Kiss The Girls McLintock! (Producer\\'s Cut) Miss You Already Mommy Much Ado About Nothing New Year\\'s Eve Phase IV Priest PRO14 Rugby Road to Perdition Shaun the Sheep Movie Slumdog Millionaire Solace Stephen King\\'s It Sucker Punch Tears of the Sun That One Word: Feyenoord The Apparition The Glass House The Interview The Last Castle The Manchurian Candidate The Mexican The Possession The Tenant The Wedding Plan The X-Files: Fight the Future Vantage Point Volcano Final Hours, America’s Longest War Only Murders in the Building 9/11: One Day in America Are you the one? El match perfecto Catfish Colombia Drunk History Argentina Spell Super Shore Trigger Point Wipeout Earth Odyssey with Dylan Dreyer Horizon Line Four Good Days Chaos Walking College Field Hockey In the Earth American Horror Story Archer Disobedience Feral State Love and Monsters Comedy Central Presenta La Culpa es de Colón La Culpa es de Colón: Edición Mujeres La Culpa es de Cortés: Edición Mujeres La Culpa es de Llorente The Ultimate Surfer NYC Epicenters 9/11→2021½ The Unusual Suspects Celebrity Wife Swap Gossip The Tick Wife Swap We Broke Up Blast Beat Bettor Days Unsane Bachelor in Paradise Men\\'s College Soccer Heels The Hate U Give Army Wives Eredivisie Soccer Women\\'s College Volleyball Brooklyn Nine-Nine Dream Corp LLC The Emoji Story The Real Housewives of Salt Lake City Heartbreak Hotel: Flight 800, 25 Years Later Held Homeroom Queen Sugar Superstar The Force The Virtuoso The Waiting Room Fantasy Island Secrets of the Morgue The Fantasy Show The FBI Files Reservation Dogs UFO Women\\'s College Soccer English Championship Soccer Madagascar: A Little Wild Texas: Spirit and Soul Obama: In Pursuit of a More Perfect Union The Devil You Know Fear the Walking Dead Fear the Walking Dead en Español Small Town News: KPVM Pahrump 21 30 Days of Night 30 Minutes or Less Alpha and Omega Are We There Yet? Attack the Block Black Swan Every Breath You Take First Knight Freelancers French Postcards From Prada to Nada Gulliver\\'s Travels Gunfight at the O.K. Corral Hamilton\\'s Pharmacopeia Impossible Builds Jack and Jill Kingpin Mirror Mirror Mud My Bloody Valentine Saints & Sinners Shane Shark Tale Some Kind of Wonderful The Baby-Sitters Club The Final Girls The Hot Chick The Hunter The Pier The Rifleman The Sons of Katie Elder The Thin Red Line The Vatican Tapes Toy Soldiers Transcendence Under the Tuscan Sun Watchmen Chasing Trane: The John Coltrane Documentary The Resort Best Summer Ever Celebrity Family Feud The Artist The Good Traitor Blue Origin: Civilians in Space 100 Foot Wave The Last Dance Power Book III: Raising Kanan The Deceived WWE Friday Night SmackDown Los intrépidos McCartney 3, 2, 1 20,000 Days on Earth A Field in England American Horror Stories Amira & Sam Borgman Bullhead Cheap Thrills Enforcement Exit Plan I Declare War Mood Indigo Pieta Raiders!: The Story of the Greatest Fan Film Ever Made Sonny Boy The Act of Killing The Complex: Lockdown The Congress The Connection The Final Member The FP The Keeping Room Backyard Builds Cleopatra en el Espacio Cleopatra in Space College Football Save My Reno Love Island (UK) 47 Meters Down Entre Nos Presents: Frankie Quiñones: Superhomies UFC 264 Barb and Star Go to Vista Del Mar Detail: Daniel Cormier Grown-ish In a World... Pete Lee: Tall, Dark, and Pleasant This Way Up Blippi\\'s Summer Games Murdoch Mysteries My Wife and Kids Papillon Red Penguins Home to Win Love & Service: The Carter Story Dreamcatcher Flower of Evil How a Realist Hero Rebuilt the Kingdom I\\'ll Go to You When the Weather is Nice More Than Friends Bill & Ted Face the Music Born a Champion Dark Web: Cicada 3301 Fear of Rain Silk Road Summer of Soul The Case Study of Vanitas The Right One 127 Hours 28 Weeks Later 68 Kill 78/52: Hitchcock\\'s Shower Scene Almost Human Alpha and Omega 4: The Legend of the Saw Toothed Cave American Gun An Acceptable Loss Band Aid Beats, Rhymes & Life: The Travels of A Tribe Called Quest Best of Cheddar Big Fish Bitter Harvest Bohemian Rhapsody Candyman 3: Day of the Dead Carnage Park Chaplin Chuck Citizen Jane: Battle for the City Coyote Ugly Dealin\\' With Idiots Dealt Dear White People Donnybrook Elaine Stritch: Shoot Me Enemy At The Gates Factotum Frank Serpico Frankenstein and the Monster from Hell Free to Run Gimme The Loot Graduation Hellions Higurashi: When They Cry - NEW I Remember You Intermission Last Days Here Let\\'s Be Evil Mercury Rising Ode to Joy Open Water Open Water 2: Adrift Passage to Mars Personal Shopper Pikwik Pack en Español Rabid Dogs RuPaul\\'s Drag Race Shelley Sightseers Stonewall Stray Sweet Virginia Take Every Wave: The Life of Laird Hamilton Take Shelter The Angel\\'s Share The Conversation The Face of Love The Feels The Gift The Girl With the Dragon Tattoo The Mighty Ones The New Detectives The Unknown Girl They Came Together Timeline Tooth Fairy Twisted Underworld Underworld Awakening Underworld: Evolution Underworld: Rise Of The Lycans Big Food Bucket List Escape to Alcatraz Hansel & Gretel: Witch Hunters Jack Reacher On The Red Carpet Texas True Crime TMZ Investigates: UFOs: The Pentagon Proof Wall of Chefs Bratz: The Movie Harvie and the Magic Museum Tulsa Burning: The 1921 Race Massacre Safer at Home The Choe Show False Positive Junior Chef Showdown The Chris Rock Show When Nature Calls With Helen Mirren Elvis Presley: The Searcher Battle Over Britney: The Conservatorship Hearing Capital One: College Bowl Motherland: Fort Salem Monster Trucks Blood on the Wall Cutthroat Kitchen Family Home Overhaul Farmhouse Facelift Hot Market Switched at Birth Worst Cooks in America The Guilt Trip Juneteenth: Together We Triumph -- A Soul of a Nation Special Event Rise Again: Tulsa and the Red Summer The Doorman The Hustler ABC Nightline DAVE Jóvenes y Rebeldes Phobias Accused: Guilty or Innocent? Alone Alone: The Beast America: Our Defining Hours Born to Play Dance Moms Duck Dynasty Forged in Fire Gone Girl Her Deadly Sugar Daddy Her Name Is Chef Married at First Sight Michael Smerconish: Things I Wish I Knew Before I Started Talking Mountain Men Nasrin The Celebrity Dating Game The Obituary of Tunde Johnson Rūrangi The Housewife and the Hustler Blindspotting Willy\\'s Wonderland UFC 263 Come True Love, Victor Pride on ABC News Live The Real Housewives of Potomac The Real Rebel: The Erin Brockovich Story House Rules MasterChef Sarah Beeny\\'s Renovate Don\\'t Relocate The Great House Revival Trust Two of Us Lego Masters The Croods: A New Age Hell\\'s Kitchen Killer Women with Piers Morgan The American Royal Baby The Chase The Insider: Reggie Yates Tom Kerridge\\'s American Feast Little Birds The Kings Juan Luis Guerra 4.40: Entre Mar y Palmeras Quest for the Stanley Cup A Glitch in the Matrix Night of the Kings America\\'s Got Talent E60 American Ninja Warrior Bloody Sunday Changing the Game Drag SOS Fun in Acapulco Hanging Up HouseBroken Hud Inside Missguided Into Last Chance Harvey Revolutionary Road Rules Of Engagement Savage State Sex Party 101 Silence Switchback The Adventures of Tintin: The Secret of the Unicorn The Cookout The Love Letter The Time Machine To Die For Walking Tall Wayne\\'s World 2 Young Adult Duncanville The Donut King The World to Come Lavell Crawford: The Comedy Vaccine My 600-lb Life The Vigil Unusual Suspects Unusual Suspects: Deadly Intent Crime Scene Kitchen Narco Wars Press Your Luck The $100,000 Pyramid The Bachelor The Bold Type After Floyd: The Year that Shook the World Mike Tyson: The Knockout Mr Inbetween Baewatch: Parental Guidance Escape from the City The Farmer Wants A Wife The Ultimate Fighter Vanguard Flatbush Misdemeanors Marvel\\'s M.O.D.O.K. Red Dawn Tulsa\\'s Buried Truth My Little Pony: Pony Life en Español Supernova Supernova en Español Death and Nightingales A Perfect Ending ABC News Live Honors Asian Pacific American Heritage Month: Bridging Generations Cowboys Galacticos Good Kisser LaLiga Center LaLiga Top Moments Mosquita y Mari Pride Reaching for the Moon The Mountain Between Us Tru Love UFC 262 United States of LaLiga MLK/FBI Saint Maud Some Kind of Heaven The Crime of the Century Robot & Frank Little Fish Eyewitness to a Pandemic Looking For Lady Day Total Recall(ed): The Story of America\\'s Largest, Wildest Recall Election Shadow in the Cloud Skyfall Deadly Women Homicide Hunter Love Sarah Naked and Afraid Pikwik Pack The Legend of Baron To\\'a Flight An Elephant\\'s Journey Are You the One? Bad Girls Club Blast From the Past Blind Date Blue Chips Bound Dating: No Filter Dr. Bird\\'s Advice for Sad Poets Grudge Match I Am Cait I Love You Phillip Morris Junior Married to Medicine Resident Evil: Apocalypse Resident Evil: Extinction Shahs of Sunset Texicanas The Age of Adaline The Indian in the Cupboard The Jackal We Were Soldiers The Judge The Night Presidential Address to Congress and the Nation and the Republican Response Arrival The Handmaid\\'s Tale Sesame Street: 50 Years of Sunny Days Exposure Una Familia Moderna Wild Mountain Thyme UFC 261: Early Prelims and Prelims Billie Better Days Breaking Fast Greta Thunberg: A Year to Change the World Cruel Summer It\\'s Not Too Late: Earth Day Special Memories of Murder More in Common Sasquatch Set the Record Straight: The Jam Master Jay Case The Lynching of Henry ‘Peg’ Gilbert Confronting a Serial Killer Modern Persuasion Sister of the Groom The New Electric Company Celebrity Best Home Cook Fly Like a Girl Songbird Deep in Vogue The Life And Legend Of Wyatt Earp The Real Housewives of Beverly Hills The State of Texas vs. Melissa Valley Grown Younger The First 100 Days: President Biden Takes Office The First 100 Days: Rep. Nancy Mace and Rep. Marilyn Strickland Cleveland Clinic: A Century of Care Paranormal Activity 4 Spontaneous ABC This Week ABC World News Tonight With David Muir Knuckledust Everything\\'s Gonna Be Okay Hope & Desperation: Emergency at the Border Quo Vadis, Aida? Stars Fell on Alabama The Bridge The Standard The World Ends with You: The Animation A Christmas Hero Crock of Gold: A Few Rounds With Shane MacGowan Ip Man: Kung Fu Master Girl Malika the Lion Queen Megalobox The Masters Blair Witch Hysterical Law & Order: Organized Crime The Real Housewives of New York City WeWork: or The Making and Breaking of a $47 Billion Unicorn 28 Days Later A Hologram for the King Amy Schumer Learns to Cook Assume the Position with Mr. Wuhl Blippi\\'s Great Green Adventure Caribbean Life Chappaquiddick Chopped Chopped Sweets Diners, Drive-Ins and Dives Extreme Makeover: Home Edition Guy\\'s Grocery Games My Little Pony: Pony Life Naked and Afraid XL Say Yes to the Dress Second Act Shrek 2 Shrek 2 (en Español) Sleeping with the Enemy So I Married An Axe Murderer Step Up Revolution The Black Full Monty Tournament of Champions Undercover Billionaire Unikitty Vegas Chef Prizefight Zappa Juda ABCNL Prime With Linsey Davis All of Us RuPaul\\'s Drag Race All Stars My Hero Academia 5 Years Apart Blood Moon Solar Opposites The Hurricane Heist Collective Shortcut The Orange Years: The Nickelodeon Story 100% Wolf Breeders Genius Teen Wolf The Gloaming Catfish: The TV Show Hunter Hunter Odd Man Rush ABC News Exclusive: President Joe Biden with George Stephanopoulos TrueSouth Holmes Family Effect Mayans M.C. America\\'s Most Wanted Staged 1 Night in San Diego Another Round Another Time Back in Time Constructing Albert Corporate Animals Crown Vic GameStopped Get Big Grand Isle H. H. Holmes: Original Evil Intersect Missing 411: The Hunted Naughty Books People of Earth Roadies Robert the Bruce Sister Aimee Terminator: The Sarah Connor Chronicles The Man Who Killed Don Quixote The Stand: How One Gesture Shook the World Blood and Money Buddy Games 32 Seconds: A Deadly Night in Rome Farewell Amor I Met a Girl Kid 90 Black Death Game of Talents My So-Called Life The Split Heartland Absolutely Ascot Dress to Impress Felicity Bart & Hahn Blossom Good Girls GREENY Jorge Ramos y su Banda Shipwrecked 2019 Stephen A\\'s World Proxima Storks Triggered Ammonite Beirut Boss Level Dear Santa Iron Mask Step Up: High Water Stop the Hate: The Rise in Violence Against Asian Americans Soul of a Nation Top Chef Attack of the 50 Foot Cheerleader Blippi CoComelon Just Married Little Baby Bum Neil Young: Heart of Gold Priceless Florence Foster Jenkins Jersey Shore: Family Vacation SportsNation The Challenge The United States vs. Billie Holiday Stardust Beartown Dredd Spring Baking Championship Supervillain: The Making of Tekashi 6ix9ine A Conversation With Black Women ABC News Live Presents: Mission to Mars, Live! Good Trouble Sonic the Hedgehog The March on Washington: Keepers of the Dream Kenan Logan Lucky Bad Habits, Holy Orders Keeping Up With the Kardashians North Korea: Inside the Mind of a Dictator The Warrior Queen of Jhansi Trump: The Reckoning 60 Days In Ancient Aliens Bride and Prejudice: Forbidden Love Forged in Fire: Beat the Judges House Hunters House Hunters International Kings of Pain Lost Girls & Love Hotels Mommy is a Murderer Pawn Stars Property Brothers Southern Gothic Tempted by Danger The Secret of Skinwalker Ranch The Shape of Water The UnXplained Witches of Salem Crshd Men in Kilts: A Roadtrip with Sam and Graham A Conversation Between Black Men Havana Street Party Presents: Beatriz Luengo Hip Hop Uncovered 2067 Line of Duty Tentacles You\\'re Next Black Love Then Came You OnlyFans: Selling Sexy Moesha Sister, Sister Harrow Beach Rats Antebellum Black Stories Presents: Your Attention Please Dear Comrades! 12 Hour Shift Kindred Modern Family Our America: Living While Black Good Morning America The School That Tried to End Racism Baldwin Hills Being Mary Jane Black Ink Crew College Hill Hello, My Name Is Doris Love & Hip Hop Atlanta Possessor The Game The Haunting in Connecticut The Lady And The Dale You Laugh But It\\'s True The Undefeated Jann Notturno Mixed-ish The Guest Book 9-1-1: Lone Star Freaks and Geeks Ingrid Goes West Painting With John Derek DelGaudio’s In & Of Itself Terra Willy: Unexplored Planet The Sister The Tax Collector To Catch a Smuggler 90 Day Fiancé: Self-Quarantined A Very Brady Renovation Car Kings Gold Rush Prodigal Son Property Brothers: Forever Home Rob Riggle: Global Investigator Rock the Block Save My Skin The Inauguration of Joseph R. Biden Jr. Hollyoaks Is It Wrong to Try to Pick Up Girls in a Dungeon? No Escape Coronation Street Endlings The Secrets We Keep Trafficked with Mariana van Zeller Dogs Playing Poker Everyone is Doing Great Unpolished 24 Hours: Assault on the Capitol Last Man Standing Lights Out The Rhythm Section Mushoku Tensei: Jobless Reincarnation HoriMiya WWE 205 Live WWE en Español Celebrity Wheel of Fortune Celebs Go Dating Mr. Mayor Tattoo Fixers Extreme UK Gretel & Hansel Name That Tune Vanderpump Rules WWE Main Event WWE NXT Gordon Ramsay\\'s American Road Trip Mighty Oak The Promised Neverland 30 Coins The Wall WWE Monday Night Raw Call Me Kat Attila the Hun Centennial Criminal Minds Diary of a Wimpy Kid Donnie Brasco Down To Earth: The Astronaut Perspective Fire Force Footloose Hell or High Water How Do You Know Rules of Engagement Save Yourselves! Shrek Star Trek Beyond Super Dark Times Tales of Wells Fargo The Haunting Where Hope Grows Bayou Caviar Inside the College Football Playoff Pilgrimage The Limehouse Golem The Osiris Child The Year: 2020 The Masked Dancer American Animals Letterkenny I.T. Soldiers of Fortune Ottolenghi and the Cakes of Versailles The Owners Someone Marry Barry The Little Hours You Cannot Kill David Arquette NOS4A2 Adoption Day Best Animal Friends Comeback Kids First Taste Of Freedom Rescued Reunited Spree The Hero The Jinkx & DeLa Holiday Special Happiest Season: Holiday Yule Log Scenic Up Early Tonight Au Pair 3: Adventure in Paradise Dirt Music Once Upon a Time in Venice The Evil in Us The Rewrite The Shot: Race for the Vaccine -- A Special Edition of 20/20 Endless Rent-a-Pal Robin Roberts Thrivership Awards Rogue Spy Cat The Fairy Princess and the Unicorn Valley Girl Attack on Titan How to Fake a War The Secret Garden Your Honor Black Ops God\\'s Own Country It Had to Be You Mr. Jones Waiting for the Barbarians Brassic Deutschland 89 MACHO: THE HECTOR CAMACHO STORY She Dies Tomorrow The Hardy Boys Rebuilding Paradise Angels & Demons Euphoria Future-Worm! Kick Buttowski: Suburban Daredevil Lupin the 3rd Part 5 Pickle and Peanut Shared Rooms The Da Vinci Code The Perfect Wedding Wander Over Yonder Zeke and Luther The Big Ugly Blippi\\'s Snowflake Scavenger Hunt Centigrade Bombshell Happiest Season Peyton\\'s Places UFC 252 Black Narcissus Between the World and Me The Great American Baking Show: Holiday Edition Burden of Truth Animaniacs Run. Tesla The Mole Agent Amulet For Life Stand Up for Heroes A3! Body Cam McQueen 69: The Saga of Danny Hernandez 12 Pups of Christmas A Christmas Movie Christmas A Nice Girl Like You Christmas Crush Knuckleball! Ramen Heads Roller Dreams Search and Destroy Skin: A History of Nudity in the Movies Soul On Ice: Past, Present and Future Spring Suburban Gothic The Blood Is At the Doorstep The Maid\\'s Room The Reagans ULAM: Main Dish The Dictator The Sunlit Night 12 Years a Slave A Sap Story Gingerbread Home Remodel I Am Greta I Am Greta (Swedish Narration) Library Cheer Puppies Crash Christmas Sputnik Stuck Santa The Gathering The Secret Life of Walter Mitty Total Bellas Two Tickets to Christmastown Chicago Fire Chicago Med Chicago P.D. Entre Nos: About Last Night The Man Who Invented Christmas Country Strong 2020: Countdown to the CMA Awards -- An ABC News Special Eater\\'s Guide to the World Tonight You\\'re Mine Small Business Revolution - Main Street Vic the Viking and the Magic Sword The Day I Became a God The Nice Guys Moonbase 8 Akudama Drive Bare Knuckle Money Plane The Cult of the Family Killing Eve Kuma Kuma Kuma Bear Our Last Crusade or the Rise of a New World The Real Housewives of New Jersey Braking for Whales Your Voice, Your Vote: Election 2020 - A Special Edition of 20/20 By the Grace of the Gods General Commander Secret Life of a Gang Girl: The Untold Story The Assault The Good Doctor The Real Housewives of Atlanta The Irregular at Magic High School Wandering Witch: The Journey of Elaina A Christmas Solo All Summers End Avenues Ayesha\\'s Home Kitchen Baby Steps Best Baker in America Brand New Old Love Christmas Cookie Challenge Christmas on Holly Lane Daphne Delirium Elf Firewalker Flip or Flop Fort Worth Giada\\'s Holiday Handbook Good Will Hunting Holiday Gingerbread Showdown Hollow Man Mapplethorpe (Director\\'s Cut) Never Been Kissed Paws P.I. Rag Doll Rick and Morty Shangri-La Suite Skins UK The Expendables The Expendables 2 The Expendables 3 The Night Watchmen Wetlands Attaway General Chicken Girls Citizen Bio City So Real Superstore American Housewife Bad Therapy America\\'s Future: The Power of the Latino Vote This Is Us Alice In Paris Baking It Easy Basic Versus Baller: Travel at Any Cost Behind The Dish Lightened Up Make This Tonight Sourced Struggle Meals The Grill Iron The Women Who Run Burger Scholar Sessions Hot Ones What to Expect When You\\'re Expecting American Pickers Bad Hair Behind Bars: Rookie Year Beyond the Headlines: Escaping the NXIVM Cult with Gretchen Carlson Born Behind Bars Cheerleader Generation Crazy Love Dating App Horrors: The Untold Story I Was a Child Bride: The Untold Story Lost Gold of World War II Meghan and Harry: Baby Fever My Sordid Affair Sex for Sale: The Untold Story Storage Wars AMS: The Fight for Flight Cyrano, My Love Madagascar: A Little Wild - A Fang-Tastic Halloween The Broken Land Celeste & Jesse Forever F*ck, That\\'s Delicious Hannibal The Voice Totally Under Control Supermarket Sweep Friend Request Seduced: Inside the NXIVM Cult Mr. Pickles Bad Hombres Earth to Echo Emperor Helstrom Mona Lisa Smile QT8: The First Eight Life Without Basketball The Con The Purge The Purge en Español Treadstone Treadstone en Español Hotel Transylvania Inside Mayweather vs. Pacquiao NEXT SCB: Davis vs. Walsh Tayo the Little Bus Infamous Entre Nos Presents: Shayla Rivera: It\\'s Not Rocket Science High Fidelity Surrogates Terminator: Dark Fate Books of Blood Black-ish Colossal Dragon Ball Super The Comedy Store Dragon Quest: The Adventure of Dai Let\\'s Be Real Monsterland UFC Fight Island: Declassified 90 Day Fiancé 90 Day Fiancé: Before the 90 Days Across the Line Bizarre Foods With Andrew Zimmern Blade: Trinity Boonie Bears: The Big Shrink Dr. Pimple Popper Guess Who Halloween Baking Championship Halloween Wars Higurashi When They Cry Homicide City: Charlotte Judy & Punch Kindred Spirits (2019) Moonshiners: Master Distiller My Feet Are Killing Me Next Level Sex Ed Spider-Man 3 Stripped: Los Angeles Supermarket Stakeout Swimming for Gold The Express The Sandman Twisted Love Soccer Made In Germany Weakest Link Inherit the Viper Trauma Center UFC Ultimate Knockouts Fargo A Wilderness of Error Judy S.W.A.T. S.W.A.T. en Español I Can See Your Voice The Apartment (TV) Cosmos: Possible Worlds If Loving You Is Wrong Boonie Bears: Spring into Action Filthy Rich The Addams Family ESPN FC Stars and Strife The Haunted Babyteeth Bless the Harts Buttons: A Christmas Tale Gemini Man Sherman\\'s Showcase StarDog and TurboCat The Fight The Master of Disguise My Soul to Take A.C.O.R.N.S: Operation Crack Down Ozzy The 3 Knockdown Rule The Etruscan Smile Pororo the Little Penguin Bin Laden\\'s Hard Drive Pop Goes the Vet Prisoners Woke This is How U Hulu Awoken Power Book II: Ghost Hooking Up Vacation In Place First Day Anthropoid Hell on the Border I Feel Pretty Mike Tyson Mysteries Mississippi Burning Playmobil: The Movie Rambo Strike The Festival Trolls World Tour I\\'ll Be Gone In The Dark Primal The Courier The Binge Bucket List Bistro Dark Side of the Ring: After Dark Nazi Megastructures Find Me in Paris Daffodils ThunderCats (1985) ThunderCats (2011) Unacknowledged: An Exposé of the Greatest Secret in Human History The Cup Behind You Christina on the Coast Mediterranean Life Savage Kingdom Before Midnight Bernie the Dolphin 2 Come As You Are Our Time: Oklahoma State Football Alive and Kicking Hard Night Falling Lucky Day No Guns Life Coda DECA-DENCE Mission Overview: NASA’s Perseverance Mars Rover NASA Science Live: Perseverance Mars Rover & the Search for Ancient Life Slay the Dragon The Peanut Butter Falcon The Kids Are Alright Dora and the Lost City of Gold Jerry Garcia: It\\'s Not My Weekend Ordinary Love Shark vs. Surfer \\'71 Are We Done Yet? City Slickers El embarcadero Elena Undone Free Fall Gayby Hurricane Bianca Just Charlie La Bella Ceci Y El Imprudente Pit Stop Rustlers\\' Rhapsody Safe Sordid Lives Teen Titans Go! The Last Stand Ultraviolet United Sharks of America: Shark Bite Capitals Were The World Mine A Certain Scientific Railgun Mega Hammerhead: Ultimate Predator The Wretched America\\'s Caddie Bull In My Skin The Flood What the Shark? Cocoa Butter\\'s The Era Ladhood Shark vs. Whale Tasty\\'s Making It Big Borderforce USA Maxxx Good Deeds Jamie: Keep Cooking and Carry On Raging Bull Shark World\\'s Biggest Great White? Expedition Hawaii 2099: The Soldier Protocol Own the Sky Rattlesnakes Zoo-Head Auditions Most Wanted Sharks Sharkcano Sharks vs. Dolphins: Blood Battle The Last Full Measure When Sharks Attack The Assistant World\\'s Biggest Tiger Shark? Marianne & Leonard: Words of Love Bong Appetit Ana The Current Occupant The Pickup Game The Wolf Hour We Are Freestyle Love Supreme The Traitor The Weekend My Scientology Movie China: The Panda Adventure Horses: The Story of Equus IMAX Superpower Dogs The New York Times Presents The Secret of Life on Earth Black Butler Dicktown Sea Fever The Fosters EvanTubeHD Smiles & Smarts by pocket.watch HobbyKidsTV Smiles & Smarts by pocket.watch I Am Not Your Negro Jason Vlogs Smiles & Smarts by pocket.watch Jillian\\'s Mystery Craft Box by pocket.watch JillianTubeHD Smiles & Smarts by pocket.watch Karina Garcia Smiles & Smarts by pocket.watch KidCity Smiles & Smarts by pocket.watch MarMar Land Smiles & Smarts by pocket.watch Onyx Family Smiles & Smarts by pocket.watch Ryan\\'s World Specials presented by pocket.watch Scratch Garden Smiles & Smarts by pocket.watch The Other Lamb The House That Jack Built The Whistlers 1000-lb Sisters 90 Day Fiancé: The Other Way Buddy vs. Duff Burgers, Brew & \\'Que Chris Farley: Anything for a Laugh Citizen Soldier Danger Close Family by the Ton Ghost Hunters Intervention Married at First Sight: Jamie and Doug Plus One Psychic Kids Rebel in the Rye Say Yes to the Nest The American Farm The Cured The Day I Picked My Parents The Grill Dads The Hornet\\'s Nest The Strongest Man in History The Toe Bro Unexpected Welcome to Plathville Mission: Impossible - Ghost Protocol The Gallows Act II The Postcard Killings Carrion Digimon Adventure: Wild Nights With Emily Merlin Once Were Brothers: Robbie Robertson and The Band The Rape of Recy Taylor UFC 250 XX Juneteenth: A Celebration of Overcoming Buffaloed Crawl Drug Lords: The Next Generation Taste the Nation with Padma Lakshmi Sweet Home Sextuplets Brockmire Forensic Files George to the Rescue Your Home Made Perfect Pan The Dustwalker Eye In The Sky Child\\'s Play Clemency Crossing Swords Good Boy LA 92 Soccer A Beautiful Planet Destiny in Space Fires of Kuwait Galapagos IMAX: T-Rex: Back to the Cretaceous Into the Deep Journey to the South Pacific Pandas Space Station Survival Island The Dream Is Alive IMAX Tyler Perry\\'s The Haves and the Have Nots Why We Fight Absolute Boyfriend Where\\'s Waldo? Frankie Shirley The Paynes And We Go Green Miss Snake Charmer A Beautiful Day in the Neighborhood Hard 4th Man Out Above and Beyond Almost Adults Childrens Hospital Community en Español Dirty Dancing: Havana Nights Equilibrium Hail Columbia! Happily N\\'Ever After Inside 30 for 30 Just Eat It: A Food Waste Story Maximilian Meet Me in Montenegro Spider-Man Spider-Man 2 The 10 Year Plan Westworld Women and Sometimes Men Disappearance at Clifton Hill Rig 45 Miles From Tomorrowland Mission Force One Star vs. The Forces of Evil World of Dance Doc McStuffins Gravity Falls I Still Believe The Titan Games This Mountain Life The Tracker UFC 249 Drag Kids AKA Jane Roe Killer in Plain Sight Premature Rocketman The Painter and the Thief Top End Wedding K.C. Undercover Red Dog 2nd Date Sex Above the Shadows Already Tomorrow in Hong Kong Autonomy Big Men Cosmos Da Sweet Blood of Jesus Morphle Saving Atlantis Scandal The Mandela Effect Baskets Beat Bobby Flay Digimon Adventure Digimon Adventure 02 Digimon Frontier Digimon Tamers Fast N\\' Loud My Friend Dahmer Saving Flora Street Outlaws The Boy Downstairs The Cat Rescuers The Great The Little Couple Just Shoot Me APPARE-RANMAN! Claws Blindspot Delivered Spaceship Earth Pitch The Hustle Fine Lines Pain and Glory Shironeko Project ZERO CHRONICLE The 33 The Lodge Vikings After Class Arte Listeners Unlocking Victory Bloom (AUS) Boomtown Christine Darwin\\'s Game Dismissed F the Prom Ghost Team (Unrated) Harry Benson: Shoot First I Am Alone In the Radiant City Missing 411 The Dinner Toxic Beauty Sophie La Girafe Cunningham Hubble 30th Anniversary A Kind of Murder ABC News Archives: Earth Day Detail: 1998 Chicago Bulls Paranormal Activity 3 100 Streets 2 Days in Paris Blame This is Not Berlin Little People, Big World Songland Vault Little Joe 13 Assassins Barking Dogs Never Bite Cashback Force Majeure Jesus Camp Let the Right One In Melancholia Mother Parasite The Host The Queen of Versailles MLS Future Man Pooka Lives! Siren 60 Days In: Narcoland 90 Day Fiancé: Happily Ever After? Breaking Amish Bring It! Hatfields & McCoys Hidden Potential Kids Behind Bars: Life or Parole Little Women: LA Taken at Birth The Family Chantel The Food That Built America The Kitchen The Witch Who Let the Dogs Out Luther Baghdad Central Portrait of a Lady on Fire Brown Girl Begins Margaret Atwood: A Word After a Word After a Word is Power Little Fires Everywhere Gravity Yu-Gi-Oh! ARC-V Big Time Adolescence Legion Love Island: Australia Taboo The Bastard Executioner Atlanta Better Things Monchhichi Monos The Most Dangerous Animal of All Crawlers Hillary I Draw, You Cook Knives and Skin Devs Defining Moments with OZY Flesh And Bone (TV) It\\'s Always Sunny in Philadelphia Life in Pieces Snowfall Extreme Rescues Hawthorne OK K.O.! Let\\'s Be Heroes Nip/Tuck Último Tren A Rusia Bless This Mess Bad Banks Britain\\'s Best Home Cook After Parkland Getaway Guardians of the Amazon And So It Goes Oculus Racetime Radioflash The Other Guy Utopia Falls Sea of Shadows Alive Smile Down the Runway Wrong Man Infinite Dendrogram Toilet-bound Hanako-kun BOFURI: I Don\\'t Want to Get Hurt, so I\\'ll Max Out My Defense. My Valentine Plunderer Angel of Mine Mamon Sorcerous Stabber Orphen The Cave Wrinkles the Clown Basketball: A Love Story Princess Cyd UFC 246 WWE Miz and Mrs Tom Brady’s Big Super Bowl Announcement Adam All About E Cherry Pop Getting Go: The Go Doc Project Henry Gamble\\'s Birthday Party Howards End Liz in September Naz & Maalik The Girl King Those People Where We Go from Here Blast of Tempest Blue Exorcist Charlotte Durarara!! Durarara!!x2 Erased Fate/stay night [Unlimited Blade Works] Fate/Zero Fullmetal Alchemist: Brotherhood Gurren Lagann Kill la Kill Magi Magi 2 My little Pony Crystal Princess: The Runaway Rainbow en Español My little Pony: A Very Minty Christmas en Español My Little Pony: Friendship is Magic en Español My Little Pony: The Princess Promenade en Español My little Pony: Twinkle Wish Adventure en Español Nisekoi Nisekoi 2 Oreshura Plastic Memories Puella Magi Madoka Magica Rurouni Kenshin Serie Pokémon XY Serie Pokémon XY – Expediciones en Kalos Serie Pokémon XYZ Sword Art Online Sword Art Online Extra Edition Sword Art Online II The Asterisk War Your Lie in April I Am Jazz Brian Banks Luce Cooks vs. Cons Damages en Español Flea Market Flip Good Eats: Reloaded Emanuel The Detour Justified Justified en Español Life, Animated Gold Rush: Dave Turin\\'s Lost Mine Greener Grass Coherence NASA Explorers Rare Exports: A Christmas Tale The Alchemist Cookbook We Need to Talk About Kevin Lodge 49 The Terror Gordon Ramsay\\'s 24 Hours to Hell and Back The Art of Self-Defense FOX News Sunday Honeyland Raise Hell: The Life and Times of Molly Ivins ¿Dónde Está Elisa? C.B. Strike Damages Hunting JonBenét\\'s Killer: The Untold Story Rellik Rescue Me The Curse of Oak Island The Zen Diaries of Garry Shandling 24 Hour Love 35 and Ticking A Score to Settle Beneath the Darkness Cabin Fever: Patient Zero Catching Faith D.L. Hughley: Reset Dark Was the Night Day of the Falcon Digging Up the Marrow Elvira: Mistress of the Dark Gary Owen: I Agree with Myself Hellbound: Hellraiser II Into the Ashes Kill Order Mary Middle of Nowhere Nina Odd Thomas Playin\\' For Love Robo-Dog So This Is Christmas Step Dogs The Clintons: An American Odyssey The Heart of Christmas The Houses October Built The Houses October Built 2 The Numbers Station The Tall Man Trick WolfCop Andy & the Donald Running with the Devil Lil Rel Howery: Live in Crenshaw Preacher CFB150 Littlekenny Midnight Kiss New Order: Decades The Day Shall Come Black Jesus Lo and Behold: Reveries of the Connected World Pokémon the Movie: Diancie and the Cocoon of Destruction Pokémon the Movie: Hoopa and the Clash of Ages Pokémon The Movie: Volcanion and the Mechanical Marvel Pokémon the Series: XY Pokémon the Series: XY Kalos Quest Pokémon the Series: XYZ A Christmas Carol (2019) Loro My Little Pony: Friendship Is Magic Cold Case Hammarskjöld The Kid Wild Rose ID: INVADED Depraved Marvel\\'s Runaways Blackfish Fast Color Catherine the Great My Little Pony Crystal Princess: The Runaway Rainbow My Little Pony: A Very Minty Christmas My Little Pony: The Princess Promenade My Little Pony: Twinkle Wish Adventure The Harder Way A Nasty Piece of Work Eddie Griffin: E-Niggma Reprisal How to Train Your Dragon: Homecoming How to Train Your Dragon: Snoggletog Log Killers Anonymous Politicking With Larry King Making It This One\\'s for the Ladies GINTAMA The Only Way Is Essex Apple Tree Yard Mike Wallace Is Here Astronaut Love & Mercy Ice Age: A Mammoth Christmas Holly Hobbie The Accident Vita & Virginia The Quiet One Booksmart The Tomorrow Man UFC Sound Waves Fantastica: A Boonie Bears Adventure BuzzFeed Unsolved: Supernatural Dollface Case file n°221 : Kabukicho Stars Align You\\'re the Worst Phantasy Star Online 2: Episode Oracle Stand My Heroes: Piece of Truth The Biggest Little Farm BBQuest Framing John DeLorean Special 7: Special Crime Investigation Unit Denial Kono Oto Tomare!: Sounds of Life AZUR LANE After School Dice Club Cautious Hero: The Hero Is Overpowered But Overly Cautious Celeste Barber: Challenge Accepted Investigations by Vice Kemono Michi: Rise Up Kids Baking Championship Pilgrim Sinbad: Legend of the Seven Seas The Nightingale Snake City In Search of Greatness Meeting Gorbachev The Boardroom Ultimate Survival WWII Raw. Vegan. Not Gross. ZOMBOAT! Unsolved Mysteries Castle Rock HobbyKids Adventures by pocket.watch Looking for Alaska Pocket.watch EvanTubeHD Ultimate mishmash Pocket.watch HobbyKidsTV Ultimate mishmash Wounds Toni Morrison: The Pieces I Am Daytime Noir The World Between Us Little Woods Sword Art Online -Alicization- Little Monsters Madonna and the Breakfast Club Savage Youth Scotch: A Golden Dream Trespassers Cannabis Evolution Missing Link A New Leaf Consumer 101 The Champion Within Vets Saving Pets We Never Learn: BOKUBEN Alex Morgan: The Equalizer Uncanny Annie Almost Family Amazing Grace Flagged Hidden Mother Ride Swiped to Death The Dunes The Ripper Undo 30 for 30 Biography: The Trump Dynasty Hillbilly Hunt for the Skinwalker Many Sides of Jane OutDaughtered The Amityville Murders The Dead Files The First 48 Presents: Homicide Squad Atlanta Basketball Wives LA Teen Spirit The Hills Hitler\\'s Last Stand Love & Hip Hop Hollywood Fresh off the Boat Single Parents Drifters Empire Joe Bennett Collection Aniara Crypto Culture Shock: A Conversation With Director Gigi Saul Guerrero Larrymania NFL\\'s Greatest Games Elementary Dios, Inc. Murder in the Bayou Nitro Circus: The Movie Hijos Del Carnaval Activate: The Global Citizen Movement Curious George: Royal Monkey Backstory Hotel Mumbai Pure We Die Young Matriarch The Many Lives of Nick Buoniconti Buried Secrets of WWII Untouchable Chuggington Playing It Cool GameFace Worth It Body at Brighton Rock The Son Dana White\\'s Contender Series Designing Women The Affair Farruko: En Letra de Otro Lethal Weapon Mapplethorpe Jawline Hail Satan? Shark Movers: Deadly Cargo Forecast Shark Attack The Amazing Johnathan Documentary Dogman The Whale That Ate Jaws: Eyewitness Report Andy Irons: Kissed by God BEM Great Shark Chow Down Cannibal Sharks AWOL The Beach Bum Apollo: Back to the Moon Arifureta: From Commonplace to World\\'s Strongest Cop Craft Fosse/Verdon Kochoki Plus One The Armstrong Tapes The Ones Within ASTRA LOST IN SPACE Big Little Lies Demon Lord, Retry! Non-Fiction School Spirit Hackerville The Hunchback of Notre Dame Along with the Gods: The Last 49 Days Four Weddings and a Funeral After Darkness I Trapped the Devil Light as a Feather The Field Guide to Evil Blue Bloods Time Freak Apollo 11 ISS Expedition Clair de Lune 4K Version - Moon Images from NASA\\'s Lunar Reconnaissance Orbiter Earth Views NASA Discusses Recent Testing of the James Webb Space Telescope NASA\\'s Giant Leaps: Past and Future - Celebrating Apollo 50th as we Go Forward to the Moon NASA’s Look at 50 Years of Apollo Parker Solar Probe Launch Coverage Space Station Fisheye Fly-Through SpaceX Crew Dragon’s First Launch on Demo-1 Mission SpaceX TESS Live Launch Coverage Stunning Aurora Borealis from Space Tour of the Moon 4k Redux Veronica Mars Somm Somm 3 Somm: Into The Bottle Killer Unknown Love It or List It Clique SneakerCenter Harlots The Amazing World of Gumball The Venture Bros. Culture Shock The Brink Chernobyl The Last Word Nightwatch Nation Project Runway The Man Who Killed Hitler and Then the Bigfoot The Sweet Life Stargate SG-1 Diane Lords of Chaos El Jardin De Bronce Out of Blue The Bravest Knight The Riveras Declared Das Boot 12 Monkeys El Negocio They Come Knocking The Bomber The Weekly Vox Lux Ask Dr. Ruth Blinded by the Lights The Lonely Man Angie Tribeca Broad City The Big Valley Backtrace Baywatch Beat Shazam Ben Is Back Catch-22 Counting On Diesel Brothers Entre Nos Good Bones DriverX Professional Fighters League Wise Man\\'s Grandchild RobiHachi Afterlost Fairy gone MIX Drunk History The Clovehitch Killer All That We Destroy Welcome to Mercy Voltron: Defender of the Universe Border Don\\'t Go The Sisters Brothers I Am the Night Ring Science The Quake What’s Wrong With Secretary Kim One-Punch Man Superstructures: Engineering Marvels Barefoot Contessa The Last Alaskans Pledge Fantastic Fights The Last Ship Tyrel The Prospects Destroyer Cults and Extreme Belief I\\'m Just F*cking With You Law of the Lawless Chef Flynn Legendary Catch She-Ra: Princess of Power Monsters and Men If Beale Street Could Talk Cardinal Miami Vice The Last Race Mental Samurai The Act Assassination Nation Divide and Conquer: The Story of Roger Ailes Havana Street Party Presents Orishas Tea With the Dames Shoplifters MasterChef Junior American Gods Drugs, Inc. Hang-Ups Puppies vs. the World Underworld, Inc. Voltron: Fleet Of Doom Can I Steal You for a Second? Treehouse Digging for Fire The Guilty Unikitty en Español Three Identical Strangers We Are LAFC The Panama Papers Stan Against Evil Code Geass Jamie\\'s Quick & Easy Food Outlaw Star Tasty 101 False Flag Unbanned: The Legend of AJ1 Dharma & Greg Murder on the Internet Fairy Tail Steins;Gate 0 Dog Days The Bob Newhart Show Pick of the Litter Down The Joe Louis Story Bad Reputation Love, Gilda Cruise WTF Baron Davis Nostradamus Effect The Pillars Of The Earth World Without End (2012) Butterfly (2018) Knight Rider Classic The Menendez Murders: Erik Tells All Truth and Lies: Monica and Bill UFC Destined FYRE FRAUD Miranda (TV) Dead by Dawn Kaguya-sama: Love Is War Comrades & Cash: How Money Found Its Way Through the Iron Curtain Kusama: Infinity Support the Girls Ally McBeal Curious George: A Very Monkey Christmas Heathers Jorge el Curioso: Una Navidad de Monos Shrek en Español The X-Files A Crooked Somebody The Orville Eating Animals Far From the Tree New Year, New You UFC 25 Greatest Fights UFC Fight Flashback UFC Main Event UFC Reloaded UFC Top 10 UFC Unleashed A Killer on Floor 32 Mighty Magiswords Polly Pocket Desperate Housewives en Español The Devil\\'s Doorway Christmas Perfection Every Other Holiday He-Man and the Masters of the Universe Hearts Beat Loud The Killing Boston Legal Burn Notice Damsel White Collar The Snow Queen 3: Fire and Ice Deutschland 86 Nico, 1988 Graves Pooka! NBA Rooks Adventure Time The Powerpuff Girls (2016) 24 Casi Leyendas Melissa & Joey Pixi Saves Christmas Señor, Dame Paciencia Hollywood Game Night Damascus Cover Feral Shark Sorry to Bother You Nina\\'s World The Bisexual Cartel Land Dust 2 Glory Luis and the Aliens Anthony Bourdain: No Reservations Living With Fran That Summer Married... With Children Under the Tree Dietland Flesh & Blood Johnny Reno King of the Hill SIX The 12th Man Earn Everything Racer and the Jailbird Let the Sunshine In El Fantasma de Elena Bad Roomies High Strung It Came from the Desert The Bernie Mac Show The Escort Total Wipeout NBA: Year One Alguien te Mira Speechless The Practice Dot La Diosa Coronada Southbound The Body Rascal Does Not Dream of Bunny Girl Senpai Brothers & Sisters 10 Things I Hate About You Baby Daddy Carved Cougar Town Dama y Obrero El Clon Greek Haunting, Horrifying Sounds from Beyond the Grave Legit Lincoln Heights Lippy Make It or Break It Out There St. Elsewhere The Box The Gillymuck The Hug The Jackie Robinson Story The League The Mary Tyler Moore Show The Riches The Rizzle The Secret Life of the American Teenager Ugly Betty Ugly Betty en Español Urn A 2nd Chance Truth and Lies: Jonestown, Paradise Lost 10.0 Earthquake The Archer Zapped Star The Gifted Aurora (TV) La Impostora Training Days: Rolling with the Tide Pasión de gavilanes Good Behavior The First Chopped Junior Expedition Unknown Warriors of Liberty City Cake Wars Cupcake Wars Flower Just Between Lovers Eva la Trailera America To Me Crime + Punishment Pasión Prohibida Minding the Gap Perro Amor A Ciambra Borg vs McEnroe Rosa Diamante Tim & Eric\\'s Bedtime Stories Life of Kylie El Cuerpo del Deseo En otra piel Casual Alone Together The Thundermans Devils\\' Line Ballet Now Marido en Alquiler Enhanced UnREAL Home Town Pocket.watch JillianTubeHD Ultimate mishmash Pocket.watch Ryan ToysReview Ultimate mishmash Property Brothers: Buying & Selling Restaurant: Impossible La Casa de al Lado Santa Diabla Lost en Español Corazón valiente Ancient Top 10 The Librarians The Murder of Laci Peterson The Legend of the Blue Sea While You Were Sleeping (TV) M*A*S*H Classic Wimbledon Curious George 3: Back to the Jungle Jorge el Curioso 3: De regreso a la Jungla Nine for IX Breakup at a Wedding Dirk Gently\\'s Holistic Detective Agency Napoleon Dynamite (2012) Ruff Ruff, Tweet and Dave Weediquette I Love Jenni Night of the Living Dead When Shall We Kiss I, Tonya Doozers Half Magic Cheddar Features Money Menu Neat: The Story of Bourbon (Dub) Sword Art Online: The Movie - Ordinal Scale (Sub) Sword Art Online: The Movie - Ordinal Scale Cheddar Explains Last Train to Russia The Strain It\\'s a Disaster All Night My Name Is Earl Witches of East End Bajo el Mismo Cielo Chiquis \\'n Control Dueños del Paraíso El Señor de los Cielos La Patrona Señora Acero Tierra de Reyes The First 48 The Hangman Teen Titans Go! en Español Tiny Shoulders: Rethinking Barbie Friday Night Lights Mom and Dad Tragedy Girls Detail Thelma The Messenger Tokyo Ghoul PERSONA5 the Animation Sword Art Online Alternative \"Gun Gale Online\" Magic City National Treasure: Kiri Flip or Flop House Hunters Renovation Iron Chef America The Killer Speaks Warpath NYPD Blue March of the Penguins 2: The Next Step Toddlers & Tiaras Shadowhunters 4 Lovers Deadliest Catch Hello I Must Be Going Sister Wives Mobile Suit Gundam UC (Unicorn) SC Featured Becoming Timeless Fantasmagorias Hard Sun Survivor 30 for 30 Shorts Indy 500 Legends Classic Boxing ESPN Films Presents O.J.: Made in America The Masters Films Scrubs 28 Hotel Rooms Monogamy The Girlfriend Experience Better Off Ted Overdrive Nightcap Black Spurs One Tree Hill Wasteland ABC News Specials Uncle Grandpa Dollhouse The Glades ER Breakout Kings Lie to Me Saving Grace (2007) Living Single Teenage Mutant Ninja Turtles Gordon Ramsay\\'s The F Word Nashville Truth and Lies: Waco Animaniacs: Wakko’s Wish Lost Pinky & The Brain Pinky, Elmyra & The Brain Steven Spielberg Presents: Tiny Toon Adventures Tiny Toon Adventures: How I Spent My Vacation Tiny Toon Adventures: Night Ghoulery Tiny Toons Spring Break Special Cold Case Files Ghost Adventures The Dick Van Dyke Show Twin Peaks Gordon Ramsay\\'s Ultimate Home Cooking Clarence Kitchen Nightmares Prime Suspect (UK) Bunheads Steven Universe ESL: Defining Moments Legion of Brothers Malcolm in the Middle Revenge Below the Surface East Los High Inside No. 9 Midnight Sun The Mick The Unit Prison Break Sonic Boom Obey Giant The Exorcist ESL Bootcamp: Immortals Akame ga Kill! Maid-sama ESL: Replay Man Seeking Woman Rosewood Son of Zorn Doozers en Español Scandalize My Name Infinite Stratos The House Too Funny to Fail: The Life & Death of The Dana Carvey Show Freakish Haunted Screens Futurama Terrific Trucks I Love You, America With Sarah Silverman Chance Black Clover Rica, Famosa, Latina The Last Man on Earth 30 Rock Fugget About It Doc Martin Family Matters Peep Show Leah Remini: Scientology and the Aftermath Bones The Carmichael Show Will & Grace (1998) NASA X The Mindy Project Top of the Lake (Dub) Afro Samurai Resurrection (Dub) Dragon Age: Dawn of the Seeker (Dub) Mass Effect: Paragon Lost (Sub) Fafner: Heaven and Earth (Sub) Fairy Tail the Movie: Phoenix Priestess (Sub) Trigun: Badlands Rumble Aesthetica of a Rogue Hero Afro Samurai Aquarion Aquarion EVOL Aria: The Scarlet Ammo Baka and Test: Summon the Beasts Basilisk Black Lagoon Brothers Conflict Code: Breaker Corpse Princess D-Frag! Dragonar Academy Dragonaut: The Resonance Eden of the East FLCL Full Metal Panic! Full Metal Panic! The Second Raid Full Metal Panic? Fumoffu Garo The Animation Gun X Sword Gungrave Haganai Hellsing Hellsing Ultimate Hetalia: Axis Powers Is This a Zombie? Jormungand Kaleido Star Kaze no Stigma Kingdom (2012) Last Exile Lord Marksman and Vanadis Maken-Ki! Battling Venus Mushi-shi Nabari no Ou Negima!? Magister Negi Magi Nobunagun Samurai 7 Soul Eater Not! Space Dandy Steins;Gate The Devil is a Part-Timer! The Sacred Blacksmith Tokyo Majin Total Divas Tower of Druaga: The Aegis of Uruk Tower of Druaga: The Sword of Uruk Vandread Witchblade WWE Superstars XxxHolic How I Met Your Mother Looking Damien Hill Street Blues The Boonies Generation Kill Salem Regular Show The Driver We Bare Bears Difficult People Bad Company Hannie Caulder Brickleberry Graceland Raising Hope Bordertown The Cleveland Show Second Chance Touch A Man Alone Johnny Guitar Tall Stranger The Eagle and the Hawk The Furies Don\\'t Trust the B---- in Apt 23 Black-ish en Español Dumb: The Story of Big Brother Magazine Bullwhip Sex&Drugs&Rock&Roll Becoming Bond Underground America\\'s Next Top Model Batman & Bill DCI Banks Prey The Hitchhiker\\'s Guide to the Galaxy The Kennedys (2015) Wayward Pines John Ford Goes To War Boruto: Naruto Next Generations The Shield Dimension 404 Pony Express Shots Fired Guilty Crown Psycho-Pass Seraph of the End: Vampire Reign Snow White With the Red Hair (Dub) Akira (Sub) Akira A Certain Magical Index Cowboy Bebop D. Gray-man HALLOW Overlord Spice and Wolf Tenchi Muyo! War on Geminar The Future Diary The Heroic Legend of Arslan The Wallflower Tokyo ESP Tokyo Ravens Trigun World Break: Aria of Curse for a Holy Swordsman Yona of the Dawn Yu Yu Hakusho National Treasure Mobile Suit Gundam 00 Mobile Suit Gundam SEED Remaster Mobile Suit Gundam The 08th MS Team Mobile Suit Gundam The Origin Mobile Suit Gundam Wing The Golden Girls Devious Maids 24 Legacy Murder in the First Workaholics Wasted Blue Exorcist Kyoto Saga JoJo’s Bizarre Adventure Terraformars Please Like Me Sleepy Hollow Chowder Children of the Corn Barbarians Rising Hunt for the Wilderpeople Desperate Housewives Horace and Pete The Powerpuff Girls (Classic) Scott & Bailey Feed the Beast Food Wars! Mobile Suit Gundam: Iron-Blooded Orphans Hello World Smallville The Beatles: Eight Days a Week - The Touring Years The Aliens Blue Bloods en Español Community Elementary en Español The Amazing Race Undercover Boss Silk My Strange Addiction Married Banished Hunter x Hunter Rosaline The Musketeers Atlantis Pride and Prejudice Bakuman Being Erica Dead Boss Epitafios In the Flesh Jane Eyre (2006) The Mighty Boosh Uncle Fear Factor Deadbeat My Mad Fat Diary Descendants of the Sun Sailor Moon Crystal Curious George Jorge el Curioso Bob Ross - The Joy of Painting Naruto Shippuden Dawson\\'s Creek 11.22.63 Hunderby Mr. Bean Dragon Ball GT Project Greenlight Dagashi Kashi Undefeated Bahamut Chronicle Dimension W Grimgar, Ashes and Illusions Saved by the Bell Saved by the Bell: Hawaiian Style Saved by the Bell: The College Years Saved by the Bell: Wedding in Las Vegas Divine Gate Special A Tears to Tiara Assassination Classroom Prince of Stride: Alternative El Perro y El Gato Happy Endings Rosario + Vampire The Goldbergs en Español Deutschland 83 Sailor Moon The Millionaire Matchmaker Heroes Cotidianos RocketJump: The Show Oh My Venus Rugrats The Guardian The Lucy Show Noragami Shomin Sample Dance With Devils Attack on Titan: Junior High Chivalry of a Failed Knight Heavy Object Drake & Josh Jersey Shore Key & Peele K (Sub) K MISSING KINGS The Awesomes ItaKiss The Hotwives of Las Vegas Monster Musume: Everyday Life With Monster Girls Ushio & Tora Gate Junjo Romantica Sky Wizards Academy The Awesomes en Español Chaos Dragon Intruders Shimoneta: A Boring World Where the Concept of Dirty Jokes Doesn\\'t Exist Prison School NASA Television Documentaries GANGSTA. HAPPYish The Borgias The Green Room With Paul Provenza The Colony Over the Garden Wall Whose Line Is It Anyway? (UK) The Bravest Knight Who Ever Lived Ben 10: Omniverse Moone Boy My Love Story!! Ben 10 (2005) Ben 10: Secret of the Omnitrix Foster\\'s Home for Imaginary Friends Sons of Anarchy Blood Blockade Battlefront Major Lazer High School DxD CSI: Crime Scene Investigation CSI: Crime Scene Investigation (Español) Parasyte: The Maxim Absolute Duo Behind the Mask The Other Man The Resident The Marvelous Misadventures of Flapjack .hack//Roots Stone Quackers Death Parade Kamisama Kiss Cake Boss Girls Just Want to Have Fun Ron White: A Little Unprofessional The Wrong Mans Stargate Atlantis Stargate Universe Body of Proof Cold Squad Date A Live Death Note Inuyasha - The Final Act Naruto Rage of Bahamut: Genesis Buddy Complex With All Due Respect .hack//SIGN David Copperfield Terror in Resonance Offspring Quick Draw K-On! The Hotwives of Orlando Melrose Place 7th Heaven Flashpoint The Brady Bunch Wings Yu-Gi-Oh! ZEXAL No Game No Life Ranma 1/2 Australia\\'s Next Top Model Beverly Hills 90210 Cheers Everybody Hates Chris Taxi The Odd Couple A Boy Named Charlie Brown A Very Brady Christmas Dr. Seuss: Dr. Seuss on the Loose Dr. Seuss: The Cat in the Hat Sabrina Down Under Snoopy Come Home Dr. Seuss: The Lorax Ghost Whisperer Gargantia on the Verdurous Planet Bleach All Saints (1998) Hello Ladies One Piece The Secret of Crickley Hall Getting On Garfunkel And Oates Sense and Sensibility (2008) (Sub) Ninja Scroll Packed to the Rafters Daniel Deronda Oliver Twist (2007) Paradox Dragon Ball Saiyuki Ergo Proxy Mother Up Misfits Fate / Stay Night Diabolik Lovers Daisy of Love Rock of Love Coppelion Absolutely Fabulous Blackadder High School USA! Bedlam Bleak House Lark Rise to Candleford New Tricks Upstairs Downstairs Whitechapel (Sub) Legend of Heroes: Trails in the Sky Clannad Elfen Lied Danganronpa: The Animation Blood Lad Sonic X Uta no Prince Sama Shameless (UK) City Homicide I Love Lucy McLeod\\'s Daughters Amy Winehouse: A Final Goodbye Say \"I Love You\" Blood-C To Love Ru Guyver: The Bioboosted Armor Shakugan no Shana The Thick of It Up to Speed Naruto Spin-Off: Rock Lee & His Ninja Pals Accel World A Day in the Life CSI: Miami Battleground Reborn! Blue Dragon Uncut Nura: Rise of the Yokai Clan Ouran High School Host Club Toriko Tiger & Bunny Air Gear Samurai Champloo Shuffle Slayers Yu-Gi-Oh! Big Windup Black Cat Vampire Knight Kenichi School Rumble High School of the Dead Flavor of Love Chrome Shelled Regios Yu-Gi-Oh! GX Yu-Gi-Oh! 5D\\'s NASA 360 Coupling Claymore Initial D Fruits Basket D.Gray-man Desert Punk The Office (U.K.) Buso Renkin The Prince of Tennis Devil May Cry Soul Eater Inuyasha Heroic Age Black Blood Brothers Doogie Howser, M.D. Lost in Space Hikaru no Go Angel Arrested Development Black Butler: Book of Circus Blade Dance of the Elementalers Boys Before Flowers Buffy the Vampire Slayer Doctora Juguetes Firefly Frasier Hey Arnold! Horrible Histories (UK) Kimi Ni Todoke: From Me to You Medium Numb3rs Primeval Reba Roswell Sabrina: The Teenage Witch Samurai Harem Scream Queens Star Trek: Deep Space Nine Star Trek: Enterprise Star Trek: The Next Generation Star Trek: The Original Series Star Trek: Voyager The Fades The Twilight Zone Tokyo Magnitude 8.0'"
      ]
     },
     "execution_count": 33,
     "metadata": {},
     "output_type": "execute_result"
    }
   ],
   "source": [
    "' '.join(hulu.title.tolist())"
   ]
  },
  {
   "cell_type": "code",
   "execution_count": 34,
   "metadata": {},
   "outputs": [
    {
     "ename": "NameError",
     "evalue": "name 'data' is not defined",
     "output_type": "error",
     "traceback": [
      "\u001b[0;31m---------------------------------------------------------------------------\u001b[0m",
      "\u001b[0;31mNameError\u001b[0m                                 Traceback (most recent call last)",
      "\u001b[1;32m/Users/derek/Vscode/MISY225-F22/Final_Project/cleaning.ipynb Cell 19\u001b[0m in \u001b[0;36m<cell line: 1>\u001b[0;34m()\u001b[0m\n\u001b[0;32m----> <a href='vscode-notebook-cell:/Users/derek/Vscode/MISY225-F22/Final_Project/cleaning.ipynb#X24sZmlsZQ%3D%3D?line=0'>1</a>\u001b[0m \u001b[39mstr\u001b[39m(\u001b[39mlist\u001b[39m(data[\u001b[39m'\u001b[39m\u001b[39mtitle\u001b[39m\u001b[39m'\u001b[39m]))\u001b[39m.\u001b[39mreplace(\u001b[39m'\u001b[39m\u001b[39m,\u001b[39m\u001b[39m'\u001b[39m, \u001b[39m'\u001b[39m\u001b[39m'\u001b[39m)\u001b[39m.\u001b[39mreplace(\u001b[39m'\u001b[39m\u001b[39m[\u001b[39m\u001b[39m'\u001b[39m, \u001b[39m'\u001b[39m\u001b[39m'\u001b[39m)\u001b[39m.\u001b[39mreplace(\u001b[39m\"\u001b[39m\u001b[39m'\u001b[39m\u001b[39m\"\u001b[39m, \u001b[39m'\u001b[39m\u001b[39m'\u001b[39m)\u001b[39m.\u001b[39mreplace(\u001b[39m'\u001b[39m\u001b[39m]\u001b[39m\u001b[39m'\u001b[39m, \u001b[39m'\u001b[39m\u001b[39m'\u001b[39m)\u001b[39m.\u001b[39mreplace(\u001b[39m'\u001b[39m\u001b[39m.\u001b[39m\u001b[39m'\u001b[39m, \u001b[39m'\u001b[39m\u001b[39m'\u001b[39m)\n",
      "\u001b[0;31mNameError\u001b[0m: name 'data' is not defined"
     ]
    }
   ],
   "source": [
    "str(list(data['title'])).replace(',', '').replace('[', '').replace(\"'\", '').replace(']', '').replace('.', '')"
   ]
  },
  {
   "cell_type": "code",
   "execution_count": null,
   "metadata": {},
   "outputs": [],
   "source": [
    "a = pd.Series([1, 2, 3, 4, 5])[[4,3,2,1,0]]"
   ]
  },
  {
   "cell_type": "code",
   "execution_count": null,
   "metadata": {},
   "outputs": [
    {
     "data": {
      "text/plain": [
       "4    5\n",
       "3    4\n",
       "2    3\n",
       "1    2\n",
       "0    1\n",
       "dtype: int64"
      ]
     },
     "execution_count": 9,
     "metadata": {},
     "output_type": "execute_result"
    }
   ],
   "source": [
    "a"
   ]
  },
  {
   "cell_type": "code",
   "execution_count": null,
   "metadata": {},
   "outputs": [
    {
     "ename": "SyntaxError",
     "evalue": "invalid syntax (500743326.py, line 1)",
     "output_type": "error",
     "traceback": [
      "\u001b[0;36m  Input \u001b[0;32mIn [10]\u001b[0;36m\u001b[0m\n\u001b[0;31m    [0:10:1]\u001b[0m\n\u001b[0m      ^\u001b[0m\n\u001b[0;31mSyntaxError\u001b[0m\u001b[0;31m:\u001b[0m invalid syntax\n"
     ]
    }
   ],
   "source": [
    "[0:10:1]"
   ]
  },
  {
   "cell_type": "code",
   "execution_count": null,
   "metadata": {},
   "outputs": [
    {
     "data": {
      "text/plain": [
       "array([1, 2, 3])"
      ]
     },
     "execution_count": 11,
     "metadata": {},
     "output_type": "execute_result"
    }
   ],
   "source": [
    "a = pd.Series([1, 2, 3])\n",
    "np.array(a)"
   ]
  },
  {
   "cell_type": "code",
   "execution_count": null,
   "metadata": {},
   "outputs": [
    {
     "data": {
      "text/plain": [
       "array([[1, 2, 3],\n",
       "       [1, 2, 4]])"
      ]
     },
     "execution_count": 14,
     "metadata": {},
     "output_type": "execute_result"
    }
   ],
   "source": [
    "b = pd.Series([1, 2, 4])\n",
    "np.vstack([a,b])\n"
   ]
  },
  {
   "cell_type": "code",
   "execution_count": 39,
   "metadata": {},
   "outputs": [
    {
     "data": {
      "text/plain": [
       "'Movie'"
      ]
     },
     "execution_count": 39,
     "metadata": {},
     "output_type": "execute_result"
    }
   ],
   "source": [
    "hulu.type.value_counts().index[1]"
   ]
  },
  {
   "cell_type": "code",
   "execution_count": 38,
   "metadata": {},
   "outputs": [
    {
     "data": {
      "text/plain": [
       "array(['Movie', 'TV Show'], dtype=object)"
      ]
     },
     "execution_count": 38,
     "metadata": {},
     "output_type": "execute_result"
    }
   ],
   "source": [
    "hulu.type.unique()"
   ]
  },
  {
   "cell_type": "code",
   "execution_count": 60,
   "metadata": {},
   "outputs": [],
   "source": [
    "month_order = ['January',\n",
    " 'February',\n",
    " 'March',\n",
    " 'April',\n",
    " 'May',\n",
    " 'June',\n",
    " 'July',\n",
    " 'August',\n",
    " 'September',\n",
    " 'October',\n",
    " 'November',\n",
    " 'December']\n",
    "\n",
    "hulu['month_name_added'] = pd.Categorical(hulu['date_added'].apply(lambda x: str(x).split()[0]), categories=month_order, ordered=True)\n",
    "data_sub = hulu.groupby('type')['month_name_added'].value_counts().unstack().fillna(0).loc[['TV Show','Movie']].cumsum(axis=0).T"
   ]
  },
  {
   "cell_type": "code",
   "execution_count": 61,
   "metadata": {},
   "outputs": [
    {
     "data": {
      "text/html": [
       "<div>\n",
       "<style scoped>\n",
       "    .dataframe tbody tr th:only-of-type {\n",
       "        vertical-align: middle;\n",
       "    }\n",
       "\n",
       "    .dataframe tbody tr th {\n",
       "        vertical-align: top;\n",
       "    }\n",
       "\n",
       "    .dataframe thead th {\n",
       "        text-align: right;\n",
       "    }\n",
       "</style>\n",
       "<table border=\"1\" class=\"dataframe\">\n",
       "  <thead>\n",
       "    <tr style=\"text-align: right;\">\n",
       "      <th>type</th>\n",
       "      <th>TV Show</th>\n",
       "      <th>Movie</th>\n",
       "    </tr>\n",
       "  </thead>\n",
       "  <tbody>\n",
       "    <tr>\n",
       "      <th>January</th>\n",
       "      <td>154</td>\n",
       "      <td>226</td>\n",
       "    </tr>\n",
       "    <tr>\n",
       "      <th>February</th>\n",
       "      <td>94</td>\n",
       "      <td>182</td>\n",
       "    </tr>\n",
       "    <tr>\n",
       "      <th>March</th>\n",
       "      <td>118</td>\n",
       "      <td>198</td>\n",
       "    </tr>\n",
       "    <tr>\n",
       "      <th>April</th>\n",
       "      <td>104</td>\n",
       "      <td>206</td>\n",
       "    </tr>\n",
       "    <tr>\n",
       "      <th>May</th>\n",
       "      <td>136</td>\n",
       "      <td>247</td>\n",
       "    </tr>\n",
       "    <tr>\n",
       "      <th>June</th>\n",
       "      <td>112</td>\n",
       "      <td>235</td>\n",
       "    </tr>\n",
       "    <tr>\n",
       "      <th>July</th>\n",
       "      <td>136</td>\n",
       "      <td>321</td>\n",
       "    </tr>\n",
       "    <tr>\n",
       "      <th>August</th>\n",
       "      <td>120</td>\n",
       "      <td>247</td>\n",
       "    </tr>\n",
       "    <tr>\n",
       "      <th>September</th>\n",
       "      <td>193</td>\n",
       "      <td>342</td>\n",
       "    </tr>\n",
       "    <tr>\n",
       "      <th>October</th>\n",
       "      <td>198</td>\n",
       "      <td>411</td>\n",
       "    </tr>\n",
       "    <tr>\n",
       "      <th>November</th>\n",
       "      <td>101</td>\n",
       "      <td>201</td>\n",
       "    </tr>\n",
       "    <tr>\n",
       "      <th>December</th>\n",
       "      <td>95</td>\n",
       "      <td>229</td>\n",
       "    </tr>\n",
       "  </tbody>\n",
       "</table>\n",
       "</div>"
      ],
      "text/plain": [
       "type       TV Show  Movie\n",
       "January        154    226\n",
       "February        94    182\n",
       "March          118    198\n",
       "April          104    206\n",
       "May            136    247\n",
       "June           112    235\n",
       "July           136    321\n",
       "August         120    247\n",
       "September      193    342\n",
       "October        198    411\n",
       "November       101    201\n",
       "December        95    229"
      ]
     },
     "execution_count": 61,
     "metadata": {},
     "output_type": "execute_result"
    }
   ],
   "source": [
    "data_sub"
   ]
  },
  {
   "cell_type": "code",
   "execution_count": 49,
   "metadata": {},
   "outputs": [
    {
     "data": {
      "text/plain": [
       "0       October\n",
       "1       October\n",
       "2       October\n",
       "3       October\n",
       "4       October\n",
       "         ...   \n",
       "3068        NaN\n",
       "3069        NaN\n",
       "3070        NaN\n",
       "3071        NaN\n",
       "3072        NaN\n",
       "Name: month_name_added, Length: 3073, dtype: category\n",
       "Categories (12, object): ['January' < 'February' < 'March' < 'April' ... 'September' < 'October' < 'November' < 'December']"
      ]
     },
     "execution_count": 49,
     "metadata": {},
     "output_type": "execute_result"
    }
   ],
   "source": [
    "hulu.month_name_added"
   ]
  },
  {
   "cell_type": "code",
   "execution_count": 78,
   "metadata": {},
   "outputs": [
    {
     "ename": "KeyError",
     "evalue": "('date_added', 'type')",
     "output_type": "error",
     "traceback": [
      "\u001b[0;31m---------------------------------------------------------------------------\u001b[0m",
      "\u001b[0;31mKeyError\u001b[0m                                  Traceback (most recent call last)",
      "File \u001b[0;32m~/opt/miniconda3/envs/ds/lib/python3.10/site-packages/pandas/core/indexes/base.py:3621\u001b[0m, in \u001b[0;36mIndex.get_loc\u001b[0;34m(self, key, method, tolerance)\u001b[0m\n\u001b[1;32m   3620\u001b[0m \u001b[39mtry\u001b[39;00m:\n\u001b[0;32m-> 3621\u001b[0m     \u001b[39mreturn\u001b[39;00m \u001b[39mself\u001b[39;49m\u001b[39m.\u001b[39;49m_engine\u001b[39m.\u001b[39;49mget_loc(casted_key)\n\u001b[1;32m   3622\u001b[0m \u001b[39mexcept\u001b[39;00m \u001b[39mKeyError\u001b[39;00m \u001b[39mas\u001b[39;00m err:\n",
      "File \u001b[0;32m~/opt/miniconda3/envs/ds/lib/python3.10/site-packages/pandas/_libs/index.pyx:136\u001b[0m, in \u001b[0;36mpandas._libs.index.IndexEngine.get_loc\u001b[0;34m()\u001b[0m\n",
      "File \u001b[0;32m~/opt/miniconda3/envs/ds/lib/python3.10/site-packages/pandas/_libs/index.pyx:163\u001b[0m, in \u001b[0;36mpandas._libs.index.IndexEngine.get_loc\u001b[0;34m()\u001b[0m\n",
      "File \u001b[0;32mpandas/_libs/hashtable_class_helper.pxi:5198\u001b[0m, in \u001b[0;36mpandas._libs.hashtable.PyObjectHashTable.get_item\u001b[0;34m()\u001b[0m\n",
      "File \u001b[0;32mpandas/_libs/hashtable_class_helper.pxi:5206\u001b[0m, in \u001b[0;36mpandas._libs.hashtable.PyObjectHashTable.get_item\u001b[0;34m()\u001b[0m\n",
      "\u001b[0;31mKeyError\u001b[0m: ('date_added', 'type')",
      "\nThe above exception was the direct cause of the following exception:\n",
      "\u001b[0;31mKeyError\u001b[0m                                  Traceback (most recent call last)",
      "\u001b[1;32m/Users/derek/Vscode/MISY225-F22/Final_Project/cleaning.ipynb Cell 30\u001b[0m in \u001b[0;36m<cell line: 1>\u001b[0;34m()\u001b[0m\n\u001b[0;32m----> <a href='vscode-notebook-cell:/Users/derek/Vscode/MISY225-F22/Final_Project/cleaning.ipynb#X41sZmlsZQ%3D%3D?line=0'>1</a>\u001b[0m try1 \u001b[39m=\u001b[39m hulu[\u001b[39m'\u001b[39;49m\u001b[39mdate_added\u001b[39;49m\u001b[39m'\u001b[39;49m, \u001b[39m'\u001b[39;49m\u001b[39mtype\u001b[39;49m\u001b[39m'\u001b[39;49m]\u001b[39m.\u001b[39mapply(\u001b[39mlambda\u001b[39;00m x: \u001b[39mstr\u001b[39m(x)\u001b[39m.\u001b[39msplit()[\u001b[39m0\u001b[39m])\u001b[39m.\u001b[39mgroupby(\u001b[39m'\u001b[39m\u001b[39mtype\u001b[39m\u001b[39m'\u001b[39m)\n",
      "File \u001b[0;32m~/opt/miniconda3/envs/ds/lib/python3.10/site-packages/pandas/core/frame.py:3505\u001b[0m, in \u001b[0;36mDataFrame.__getitem__\u001b[0;34m(self, key)\u001b[0m\n\u001b[1;32m   3503\u001b[0m \u001b[39mif\u001b[39;00m \u001b[39mself\u001b[39m\u001b[39m.\u001b[39mcolumns\u001b[39m.\u001b[39mnlevels \u001b[39m>\u001b[39m \u001b[39m1\u001b[39m:\n\u001b[1;32m   3504\u001b[0m     \u001b[39mreturn\u001b[39;00m \u001b[39mself\u001b[39m\u001b[39m.\u001b[39m_getitem_multilevel(key)\n\u001b[0;32m-> 3505\u001b[0m indexer \u001b[39m=\u001b[39m \u001b[39mself\u001b[39;49m\u001b[39m.\u001b[39;49mcolumns\u001b[39m.\u001b[39;49mget_loc(key)\n\u001b[1;32m   3506\u001b[0m \u001b[39mif\u001b[39;00m is_integer(indexer):\n\u001b[1;32m   3507\u001b[0m     indexer \u001b[39m=\u001b[39m [indexer]\n",
      "File \u001b[0;32m~/opt/miniconda3/envs/ds/lib/python3.10/site-packages/pandas/core/indexes/base.py:3623\u001b[0m, in \u001b[0;36mIndex.get_loc\u001b[0;34m(self, key, method, tolerance)\u001b[0m\n\u001b[1;32m   3621\u001b[0m     \u001b[39mreturn\u001b[39;00m \u001b[39mself\u001b[39m\u001b[39m.\u001b[39m_engine\u001b[39m.\u001b[39mget_loc(casted_key)\n\u001b[1;32m   3622\u001b[0m \u001b[39mexcept\u001b[39;00m \u001b[39mKeyError\u001b[39;00m \u001b[39mas\u001b[39;00m err:\n\u001b[0;32m-> 3623\u001b[0m     \u001b[39mraise\u001b[39;00m \u001b[39mKeyError\u001b[39;00m(key) \u001b[39mfrom\u001b[39;00m \u001b[39merr\u001b[39;00m\n\u001b[1;32m   3624\u001b[0m \u001b[39mexcept\u001b[39;00m \u001b[39mTypeError\u001b[39;00m:\n\u001b[1;32m   3625\u001b[0m     \u001b[39m# If we have a listlike key, _check_indexing_error will raise\u001b[39;00m\n\u001b[1;32m   3626\u001b[0m     \u001b[39m#  InvalidIndexError. Otherwise we fall through and re-raise\u001b[39;00m\n\u001b[1;32m   3627\u001b[0m     \u001b[39m#  the TypeError.\u001b[39;00m\n\u001b[1;32m   3628\u001b[0m     \u001b[39mself\u001b[39m\u001b[39m.\u001b[39m_check_indexing_error(key)\n",
      "\u001b[0;31mKeyError\u001b[0m: ('date_added', 'type')"
     ]
    }
   ],
   "source": [
    "try1 = hulu['date_added', 'type'].apply(lambda x: str(x).split()[0]).groupby('type')\n"
   ]
  },
  {
   "cell_type": "code",
   "execution_count": 76,
   "metadata": {},
   "outputs": [
    {
     "ename": "ValueError",
     "evalue": "not enough values to unpack (expected 2, got 1)",
     "output_type": "error",
     "traceback": [
      "\u001b[0;31m---------------------------------------------------------------------------\u001b[0m",
      "\u001b[0;31mValueError\u001b[0m                                Traceback (most recent call last)",
      "\u001b[1;32m/Users/derek/Vscode/MISY225-F22/Final_Project/cleaning.ipynb Cell 31\u001b[0m in \u001b[0;36m<cell line: 1>\u001b[0;34m()\u001b[0m\n\u001b[0;32m----> <a href='vscode-notebook-cell:/Users/derek/Vscode/MISY225-F22/Final_Project/cleaning.ipynb#X42sZmlsZQ%3D%3D?line=0'>1</a>\u001b[0m \u001b[39mfor\u001b[39;00m i,j \u001b[39min\u001b[39;00m try1:\n\u001b[1;32m      <a href='vscode-notebook-cell:/Users/derek/Vscode/MISY225-F22/Final_Project/cleaning.ipynb#X42sZmlsZQ%3D%3D?line=1'>2</a>\u001b[0m     \u001b[39mprint\u001b[39m(i,j)\n",
      "\u001b[0;31mValueError\u001b[0m: not enough values to unpack (expected 2, got 1)"
     ]
    }
   ],
   "source": [
    "for i,j in try1:\n",
    "    print(i,j)"
   ]
  },
  {
   "cell_type": "code",
   "execution_count": 85,
   "metadata": {},
   "outputs": [],
   "source": [
    "a = hulu.type.unique().tolist()"
   ]
  },
  {
   "cell_type": "code",
   "execution_count": 86,
   "metadata": {},
   "outputs": [
    {
     "data": {
      "text/plain": [
       "list"
      ]
     },
     "execution_count": 86,
     "metadata": {},
     "output_type": "execute_result"
    }
   ],
   "source": [
    "type(a)"
   ]
  },
  {
   "cell_type": "code",
   "execution_count": 90,
   "metadata": {},
   "outputs": [],
   "source": [
    "a = a[::-1]"
   ]
  },
  {
   "cell_type": "code",
   "execution_count": 92,
   "metadata": {},
   "outputs": [],
   "source": [
    "a.sort()"
   ]
  },
  {
   "cell_type": "code",
   "execution_count": 93,
   "metadata": {},
   "outputs": [
    {
     "data": {
      "text/plain": [
       "['Movie', 'TV Show']"
      ]
     },
     "execution_count": 93,
     "metadata": {},
     "output_type": "execute_result"
    }
   ],
   "source": [
    "a"
   ]
  },
  {
   "cell_type": "code",
   "execution_count": 94,
   "metadata": {},
   "outputs": [
    {
     "data": {
      "text/plain": [
       "Index(['TV Show', 'Movie'], dtype='object')"
      ]
     },
     "execution_count": 94,
     "metadata": {},
     "output_type": "execute_result"
    }
   ],
   "source": [
    "hulu.type.value_counts().index"
   ]
  },
  {
   "cell_type": "code",
   "execution_count": null,
   "metadata": {},
   "outputs": [],
   "source": []
  }
 ],
 "metadata": {
  "kernelspec": {
   "display_name": "Python 3.10.4 ('ds')",
   "language": "python",
   "name": "python3"
  },
  "language_info": {
   "codemirror_mode": {
    "name": "ipython",
    "version": 3
   },
   "file_extension": ".py",
   "mimetype": "text/x-python",
   "name": "python",
   "nbconvert_exporter": "python",
   "pygments_lexer": "ipython3",
   "version": "3.10.4"
  },
  "orig_nbformat": 4,
  "vscode": {
   "interpreter": {
    "hash": "8d330fb0e7e86b15974b0e807d7a4b9768000ba2a92d88a4cc3ee9a6e179ad84"
   }
  }
 },
 "nbformat": 4,
 "nbformat_minor": 2
}
